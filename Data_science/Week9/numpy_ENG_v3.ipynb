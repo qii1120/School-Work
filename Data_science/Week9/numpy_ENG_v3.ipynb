{
 "cells": [
  {
   "cell_type": "markdown",
   "metadata": {},
   "source": [
    "<h1 style = \"color: blue; text-align: center\"> NumPy  </h1>\n",
    "<h3 style = \"color: black; text-align: center\"> Produced by: Chih-Hung  Lai <br />\n",
    "Created: 2017.11.05 Last modified: 2023.04.07"
   ]
  },
  {
   "cell_type": "markdown",
   "metadata": {},
   "source": [
    "<h2 style = \"color: blue\"> Table Contents </h2>   \n",
    "\n",
    "1. Introduction  \n",
    " 1.1 Features  \n",
    " 1.2 Why to use Numpy  \n",
    " 1.3 Get started  \n",
    " 1.4 Online resource  \n",
    "2. Basic properties  \n",
    "3. Creation of ndarray  \n",
    " 3.1 Create 1 dimentional arrays  \n",
    " 3.2 Create  n dimentional arrays  \n",
    "4. Visit  arrays  \n",
    "5. Slicing arrays  \n",
    "6. Change the shape of arrays  \n",
    "7. Array operations  \n",
    "8. Random Numbers  \n",
    "9. Generic Functions  \n",
    "10. Save and read file\n",
    " "
   ]
  },
  {
   "cell_type": "markdown",
   "metadata": {},
   "source": [
    "# 1. Introduction"
   ]
  },
  {
   "cell_type": "markdown",
   "metadata": {},
   "source": [
    "## 1.1 Features"
   ]
  },
  {
   "cell_type": "markdown",
   "metadata": {},
   "source": [
    "- Numeric Python\n",
    "- A fundamental package of multi-dimensional arrays for scientific computing in Python\n",
    "- A Python library which provides useful functions for multi-dimensional array objects\n",
    "    - various derived objects (such as masked arrays and matrices), and an assortment of routines for fast operations on arrays, including mathematical, logical, shape manipulation, sorting, selecting, I/O, discrete Fourier transforms, basic linear algebra, basic statistical operations, random simulation and much more."
   ]
  },
  {
   "cell_type": "markdown",
   "metadata": {},
   "source": [
    "- The core of NumPy is ndarray (multi-dimensional array object)\n",
    "    - an array consists of same data-type elements (like arrays in C language)\n",
    "    - Python's list allows different data types"
   ]
  },
  {
   "cell_type": "markdown",
   "metadata": {},
   "source": [
    "## 1.2 Why to use Numpy"
   ]
  },
  {
   "cell_type": "markdown",
   "metadata": {},
   "source": [
    "- Provide a large number of mathematical functions\n",
    "    - such as Fourier transform, linear algebra, polynomials, etc.\n",
    "- accelate operating speed\n",
    "    - are written in C language\n",
    "- consume less resource"
   ]
  },
  {
   "cell_type": "markdown",
   "metadata": {},
   "source": [
    "## 1.3 Get started"
   ]
  },
  {
   "cell_type": "code",
   "execution_count": 2,
   "metadata": {},
   "outputs": [
    {
     "name": "stdout",
     "output_type": "stream",
     "text": [
      "[0, 1, 2, 3, 4, 5]\n",
      "[0 1 2 3 4 5]\n"
     ]
    }
   ],
   "source": [
    "import numpy as np\n",
    "a = [0, 1, 2, 3, 4, 5]\n",
    "np1 = np.array(a)\n",
    "print(a)\n",
    "print(np1)"
   ]
  },
  {
   "cell_type": "code",
   "execution_count": 50,
   "metadata": {},
   "outputs": [],
   "source": [
    "# Function help\n",
    "# Syntax: numpy.function_name?\n",
    "\n",
    "import numpy as np\n",
    "np.sin?"
   ]
  },
  {
   "cell_type": "code",
   "execution_count": 1,
   "metadata": {
    "tags": []
   },
   "outputs": [
    {
     "data": {
      "text/plain": [
       "'1.20.3'"
      ]
     },
     "execution_count": 1,
     "metadata": {},
     "output_type": "execute_result"
    }
   ],
   "source": [
    "# show numpy version\n",
    "import numpy\n",
    "numpy.__version__"
   ]
  },
  {
   "cell_type": "code",
   "execution_count": 51,
   "metadata": {},
   "outputs": [
    {
     "name": "stdout",
     "output_type": "stream",
     "text": [
      "[10 15 20]\n",
      "<class 'numpy.ndarray'>\n"
     ]
    }
   ],
   "source": [
    "# using import .. as ..\n",
    "import numpy as np\n",
    "arr1 = np.array([10, 15, 20])\n",
    "print(arr1)\n",
    "print(type(arr1))"
   ]
  },
  {
   "cell_type": "markdown",
   "metadata": {},
   "source": [
    "## 1.4 Online resource"
   ]
  },
  {
   "cell_type": "markdown",
   "metadata": {},
   "source": [
    "- official website\n",
    "    - http://www.numpy.org/\n",
    "\n",
    "- Documentation\n",
    "    - https://numpy.org/doc/stable/\n",
    "    - https://www.w3schools.com/python/numpy/default.asp"
   ]
  },
  {
   "cell_type": "markdown",
   "metadata": {},
   "source": [
    "# 2. Basic properties"
   ]
  },
  {
   "cell_type": "markdown",
   "metadata": {},
   "source": [
    "* Data type in Numpy is \"ndarray\" (n-dimensional array).\n",
    "* Key features of the ndarray type\n",
    "    * ndarray.ndim: the dimension of the array\n",
    "    * ndarray.shape: The shape of the array (represented by a tuple), each integer represents the number of elements in each dimension\n",
    "    * ndarray.size: the number of elements\n",
    "    * ndarray.dtype: The data type of the element, including python's built-in int, bool, str, etc. \n",
    "        - Note: type () is the data type of the whole object\n",
    "        - It can also include numpy.int32, numpy.int16, numpy.float64, etc. provided by the NumPy\n",
    "    * ndarray.itemsize: number of bytes"
   ]
  },
  {
   "cell_type": "code",
   "execution_count": 12,
   "metadata": {},
   "outputs": [
    {
     "name": "stdout",
     "output_type": "stream",
     "text": [
      "[[1 2 3]\n",
      " [4 5 6]] \n",
      "\n",
      "dimension: 2\n",
      "row and column: (2, 3)\n",
      "row: 2\n",
      "column: 3\n",
      "Number of elements: 6\n",
      "Number of elements in array [0]: 3\n",
      "data type(array.dtype): int32\n",
      "data type(type): <class 'numpy.ndarray'>\n",
      "Number of bytes: 4\n"
     ]
    }
   ],
   "source": [
    "import numpy as np \n",
    "array = np.array([[1,2,3],[4,5,6]])  \n",
    "print(array, '\\n')\n",
    "print('dimension:', array.ndim)\n",
    "print('row and column:', array.shape) # number of columns and rows\n",
    "print('row:', array.shape[0]) # number of row\n",
    "print('column:', array.shape[1]) # number of column \n",
    "print('Number of elements:', array.size)\n",
    "print('Number of elements in array [0]:', array[0].size)\n",
    "print('data type(array.dtype):', array.dtype) # display the data type of each element\n",
    "print('data type(type):', type(array))       # display the data type of the object (or variable) \"array\"\n",
    "print('Number of bytes:', array.itemsize)\n"
   ]
  },
  {
   "cell_type": "markdown",
   "metadata": {},
   "source": [
    "# 3. Creation of ndarray"
   ]
  },
  {
   "cell_type": "markdown",
   "metadata": {},
   "source": [
    "## 3.1 Create 1 dimentional arrays"
   ]
  },
  {
   "cell_type": "markdown",
   "metadata": {},
   "source": [
    "1. Use np.array( ) function to convert other data types\n",
    "    - a = np.array([1, 3, 5, 7, 9]) # From a list   -> more common way\n",
    "    - b = np.array((1, 3, 5, 7, 9)) # From a tuple\n",
    " \n",
    "2. Use range( ) function or np.arange( ) function\n",
    "    - Note: parameters in range( ) are only integers, but np.arange( ) can be floats and integers)\n",
    "    - Not include the \"Stop\", like Python\n",
    "3. Use linspace( ) function to create evenly spaced numbers over a specified interval ​​# linearspace\n",
    "   - linspace(initial value, end value, number of elements, dtype = data type) #will include the end value\n",
    "   - https://numpy.org/doc/stable/reference/generated/numpy.linspace.html\n",
    "4. Use other functions, such as zeros( ), ones( ), random.random( ), np.random.randint( )"
   ]
  },
  {
   "cell_type": "code",
   "execution_count": 4,
   "metadata": {},
   "outputs": [
    {
     "name": "stdout",
     "output_type": "stream",
     "text": [
      "[1 3 5 7 9] [1 3 5 7 9] {1, 3, 5, 7, 9}\t\n",
      "int32 int32 object\n",
      "\n",
      "<class 'numpy.ndarray'> <class 'numpy.ndarray'> <class 'numpy.ndarray'>\n",
      "[  1   3   5 100   9] [  1   3   5 100   9] {1, 3, 5, 7, 9}\t"
     ]
    }
   ],
   "source": [
    "# Use np.array( ) function to convert other data types\n",
    "\n",
    "import numpy as np\n",
    "a = np.array([1, 3, 5, 7, 9])\n",
    "b = np.array((1, 3, 5, 7, 9))\n",
    "c = np.array({1, 3, 5, 7, 9})   # every element is an object, not an integer\n",
    "print(a, b, c, end = '\\t')\n",
    "print()\n",
    "print(a.dtype, b.dtype, c.dtype) # display the data type of each element\n",
    "print()\n",
    "print(type(a), type(b), type(c)) # display the data type of the entire data\n",
    "\n",
    "a[3] = 100\n",
    "b[3] = 100\n",
    "#c[3] = 100 # will cause an error\n",
    "print(a, b, c, end = '\\t')"
   ]
  },
  {
   "cell_type": "code",
   "execution_count": 15,
   "metadata": {},
   "outputs": [
    {
     "name": "stdout",
     "output_type": "stream",
     "text": [
      "[5 2 8 4 5 6]\n",
      "[5. 2. 8. 4. 5. 6.]\n",
      "int32 float64\n"
     ]
    }
   ],
   "source": [
    "import numpy as np \n",
    "arr1 = np.array([5,2,8,4,5,6]) # default data type\n",
    "arr2 = np.array([5,2,8,4,5,6], dtype = float)\n",
    "print(arr1, arr2, sep = '\\n')\n",
    "print(arr1.dtype, arr2.dtype)"
   ]
  },
  {
   "cell_type": "code",
   "execution_count": 3,
   "metadata": {},
   "outputs": [
    {
     "name": "stdout",
     "output_type": "stream",
     "text": [
      "[0 1 2 3 4]\n",
      "[3 4 5 6 7 8 9]\n",
      "[3.  3.5 4.  4.5 5.  5.5 6.  6.5 7.  7.5 8.  8.5 9.  9.5]\n",
      "[3.  3.8 4.6 5.4 6.2 7.  7.8 8.6 9.4]\n"
     ]
    }
   ],
   "source": [
    "# Use np.arange(): can be floats\n",
    "# np.arange(START, STOP, STEP, dtype=datatype)\n",
    "# The parameters can be omitted, similar to the usage of python's range() # Will not include the STOP value\n",
    "import numpy as np\n",
    "arr1 = np.arange(5) # without 5\n",
    "arr2 = np.arange(3, 10)\n",
    "arr3 = np.arange(3, 10, 0.5)\n",
    "arr4 = np.arange(3, 10, 0.8, dtype = float)\n",
    "print(arr1, arr2, arr3, arr4, sep = '\\n')"
   ]
  },
  {
   "cell_type": "code",
   "execution_count": 21,
   "metadata": {},
   "outputs": [
    {
     "name": "stdout",
     "output_type": "stream",
     "text": [
      "[ 0.          0.52631579  1.05263158  1.57894737  2.10526316  2.63157895\n",
      "  3.15789474  3.68421053  4.21052632  4.73684211  5.26315789  5.78947368\n",
      "  6.31578947  6.84210526  7.36842105  7.89473684  8.42105263  8.94736842\n",
      "  9.47368421 10.        ]\n",
      "[ 0.   0.5  1.   1.5  2.   2.5  3.   3.5  4.   4.5  5.   5.5  6.   6.5\n",
      "  7.   7.5  8.   8.5  9.   9.5 10. ]\n"
     ]
    }
   ],
   "source": [
    "# Use linspace( ) function to create evenly spaced numbers over a specified interval\n",
    "\n",
    "import numpy as np\n",
    "arr1 = np.linspace(0, 10, 20) # Contains 10, note that the last argument refers to a total of 20, \n",
    "                              # which is divided into 19 intervals, if each interval is 0.5, use 21\n",
    "print(arr1)\n",
    "\n",
    "arr2 = np.linspace(0, 10, 21) \n",
    "print(arr2)"
   ]
  },
  {
   "cell_type": "code",
   "execution_count": 12,
   "metadata": {},
   "outputs": [
    {
     "ename": "AttributeError",
     "evalue": "module 'numpy' has no attribute 'int'.\n`np.int` was a deprecated alias for the builtin `int`. To avoid this error in existing code, use `int` by itself. Doing this will not modify any behavior and is safe. When replacing `np.int`, you may wish to use e.g. `np.int64` or `np.int32` to specify the precision. If you wish to review your current use, check the release note link for additional information.\nThe aliases was originally deprecated in NumPy 1.20; for more details and guidance see the original release note at:\n    https://numpy.org/devdocs/release/1.20.0-notes.html#deprecations",
     "output_type": "error",
     "traceback": [
      "\u001b[0;31m---------------------------------------------------------------------------\u001b[0m",
      "\u001b[0;31mAttributeError\u001b[0m                            Traceback (most recent call last)",
      "Cell \u001b[0;32mIn[12], line 8\u001b[0m\n\u001b[1;32m      6\u001b[0m b\u001b[39m=\u001b[39mnp\u001b[39m.\u001b[39marange(\u001b[39m6\u001b[39m) \u001b[39m# 0 .. 6 but not include 6\u001b[39;00m\n\u001b[1;32m      7\u001b[0m c \u001b[39m=\u001b[39m np\u001b[39m.\u001b[39mzeros(\u001b[39m6\u001b[39m) \u001b[39m# The array has 6 elements with the value 0\u001b[39;00m\n\u001b[0;32m----> 8\u001b[0m d \u001b[39m=\u001b[39m np\u001b[39m.\u001b[39mones(\u001b[39m6\u001b[39m, dtype \u001b[39m=\u001b[39m np\u001b[39m.\u001b[39;49mint) \u001b[39m# The array has 6 elements with the value 1\u001b[39;00m\n\u001b[1;32m      9\u001b[0m e \u001b[39m=\u001b[39m np\u001b[39m.\u001b[39mrandom\u001b[39m.\u001b[39mrandom(\u001b[39m6\u001b[39m) \u001b[39m# 6 random numbers, 0 .. < 1\u001b[39;00m\n\u001b[1;32m     10\u001b[0m f \u001b[39m=\u001b[39m np\u001b[39m.\u001b[39mrandom\u001b[39m.\u001b[39mrandint(\u001b[39m1\u001b[39m, \u001b[39m100\u001b[39m, \u001b[39m10\u001b[39m) \n",
      "File \u001b[0;32m~/Library/Python/3.9/lib/python/site-packages/numpy/__init__.py:305\u001b[0m, in \u001b[0;36m__getattr__\u001b[0;34m(attr)\u001b[0m\n\u001b[1;32m    300\u001b[0m     warnings\u001b[39m.\u001b[39mwarn(\n\u001b[1;32m    301\u001b[0m         \u001b[39mf\u001b[39m\u001b[39m\"\u001b[39m\u001b[39mIn the future `np.\u001b[39m\u001b[39m{\u001b[39;00mattr\u001b[39m}\u001b[39;00m\u001b[39m` will be defined as the \u001b[39m\u001b[39m\"\u001b[39m\n\u001b[1;32m    302\u001b[0m         \u001b[39m\"\u001b[39m\u001b[39mcorresponding NumPy scalar.\u001b[39m\u001b[39m\"\u001b[39m, \u001b[39mFutureWarning\u001b[39;00m, stacklevel\u001b[39m=\u001b[39m\u001b[39m2\u001b[39m)\n\u001b[1;32m    304\u001b[0m \u001b[39mif\u001b[39;00m attr \u001b[39min\u001b[39;00m __former_attrs__:\n\u001b[0;32m--> 305\u001b[0m     \u001b[39mraise\u001b[39;00m \u001b[39mAttributeError\u001b[39;00m(__former_attrs__[attr])\n\u001b[1;32m    307\u001b[0m \u001b[39m# Importing Tester requires importing all of UnitTest which is not a\u001b[39;00m\n\u001b[1;32m    308\u001b[0m \u001b[39m# cheap import Since it is mainly used in test suits, we lazy import it\u001b[39;00m\n\u001b[1;32m    309\u001b[0m \u001b[39m# here to save on the order of 10 ms of import time for most users\u001b[39;00m\n\u001b[1;32m    310\u001b[0m \u001b[39m#\u001b[39;00m\n\u001b[1;32m    311\u001b[0m \u001b[39m# The previous way Tester was imported also had a side effect of adding\u001b[39;00m\n\u001b[1;32m    312\u001b[0m \u001b[39m# the full `numpy.testing` namespace\u001b[39;00m\n\u001b[1;32m    313\u001b[0m \u001b[39mif\u001b[39;00m attr \u001b[39m==\u001b[39m \u001b[39m'\u001b[39m\u001b[39mtesting\u001b[39m\u001b[39m'\u001b[39m:\n",
      "\u001b[0;31mAttributeError\u001b[0m: module 'numpy' has no attribute 'int'.\n`np.int` was a deprecated alias for the builtin `int`. To avoid this error in existing code, use `int` by itself. Doing this will not modify any behavior and is safe. When replacing `np.int`, you may wish to use e.g. `np.int64` or `np.int32` to specify the precision. If you wish to review your current use, check the release note link for additional information.\nThe aliases was originally deprecated in NumPy 1.20; for more details and guidance see the original release note at:\n    https://numpy.org/devdocs/release/1.20.0-notes.html#deprecations"
     ]
    }
   ],
   "source": [
    "# In addition to the arange(), zeros(), ones() and full() functions, \n",
    "# more functions are provided to create arrays of various preset value\n",
    "\n",
    "import numpy as np\n",
    "a=np.array([3,6,9,12,15,18])\n",
    "b=np.arange(6) # 0 .. 6 but not include 6\n",
    "c = np.zeros(6) # The array has 6 elements with the value 0\n",
    "d = np.ones(6, dtype = np.int) # The array has 6 elements with the value 1\n",
    "e = np.random.random(6) # 6 random numbers, 0 .. < 1\n",
    "f = np.random.randint(1, 100, 10) \n",
    "# Generate 10 integers from 1 to 100 (exclusive)\n",
    "# but random.randint() include 100\n",
    "\n",
    "print(a,b,c,d,e,f, sep=\"\\n\")"
   ]
  },
  {
   "cell_type": "code",
   "execution_count": 5,
   "metadata": {},
   "outputs": [
    {
     "name": "stdout",
     "output_type": "stream",
     "text": [
      "[4, 4, 2, 4, 2, 3, 4, 1, 2, 3, 5, 6, 4, 3, 4, 3, 3, 4, 5, 1, 3, 4, 3, 5, 1, 1, 5, 6, 2, 1, 4, 5, 5, 6, 1, 6, 6, 2, 6, 2, 6, 5, 4, 1, 6, 5, 2, 6, 5, 3, 6, 1, 4, 4, 3, 6, 6, 2, 2, 5, 6, 3, 6, 3, 2, 6, 6, 1, 3, 6, 5, 1, 1, 3, 4, 5, 3, 4, 5, 3, 1, 2, 3, 4, 2, 2, 4, 3, 6, 3, 1, 5, 2, 6, 6, 3, 1, 1, 6, 2]\n",
      "\n",
      "[5 1 4 5 2 2 1 3 2 3 4 1 4 3 1 1 1 5 4 1 2 5 4 1 4 3 1 3 1 1 4 1 1 2 1 2 2\n",
      " 4 1 2 5 4 1 4 4 4 3 3 1 2 3 4 3 2 4 1 5 3 3 1 5 1 1 4 5 3 3 3 2 2 5 1 2 2\n",
      " 4 5 4 4 5 4 5 3 3 2 5 3 1 2 3 1 3 4 5 2 2 1 2 5 5 3]\n",
      "<class 'list'> <class 'numpy.ndarray'>\n"
     ]
    }
   ],
   "source": [
    "import numpy as np\n",
    "import random\n",
    "\n",
    "a = [random.randint(1, 6) for i in range(100)]  # include 6, is a list\n",
    "b = np.random.randint(1, 6, 100)                # not include 6, is a ndarray object\n",
    "print(a, b, sep=\"\\n\\n\")\n",
    "print(type(a), type(b))"
   ]
  },
  {
   "cell_type": "code",
   "execution_count": 3,
   "metadata": {},
   "outputs": [
    {
     "name": "stdout",
     "output_type": "stream",
     "text": [
      "a:\n",
      " [[1 2 3]\n",
      " [4 5 6]]\n",
      "\n",
      "np.zeros_like(a):\n",
      " [[0 0 0]\n",
      " [0 0 0]]\n",
      "\n",
      "np.ones_like(a):\n",
      " [[1 1 1]\n",
      " [1 1 1]]\n",
      "\n",
      "np.eye(3):\n",
      " [[1. 0. 0.]\n",
      " [0. 1. 0.]\n",
      " [0. 0. 1.]]\n",
      "\n",
      "np.eye(3, k=1):\n",
      " [[0. 1. 0.]\n",
      " [0. 0. 1.]\n",
      " [0. 0. 0.]]\n",
      "\n",
      "np.random.rand(3):\n",
      " [0.61869113 0.36306096 0.64333338]\n",
      "\n",
      "np.random.rand(3,3):\n",
      " [[0.74483067 0.49045504 0.78591469]\n",
      " [0.28138438 0.62358562 0.5780462 ]\n",
      " [0.09924771 0.11015228 0.44388005]]\n"
     ]
    }
   ],
   "source": [
    "# NumPy's zeros_like() and ones_like() functions can generate arrays \n",
    "# with elements of the same size as 0 or 1 according to the shape of the parameter's template array.\n",
    "\n",
    "import numpy as np\n",
    "\n",
    "a = np.array([[1,2,3],[4,5,6]])\n",
    "b = np.zeros_like(a)\n",
    "print('a:\\n', a)\n",
    "print()\n",
    "print('np.zeros_like(a):\\n', b)\n",
    "\n",
    "print()\n",
    "c = np.ones_like(a)\n",
    "print('np.ones_like(a):\\n', c)\n",
    "\n",
    "print()\n",
    "d = np.eye(3) # The diagonals are all 1\n",
    "print('np.eye(3):\\n', d)\n",
    "\n",
    "print()\n",
    "e = np.eye(3, k=1) # Starting from 1 of the index, the diagonals are all 1, that is, the diagonal diagonal from the position of [0,1] is 1\n",
    "print('np.eye(3, k=1):\\n', e)\n",
    "\n",
    "print()\n",
    "f = np.random.rand(3)\n",
    "print('np.random.rand(3):\\n', f)\n",
    "print()\n",
    "g = np.random.rand(3,3)\n",
    "print('np.random.rand(3,3):\\n', g)"
   ]
  },
  {
   "cell_type": "code",
   "execution_count": 6,
   "metadata": {},
   "outputs": [
    {
     "name": "stdout",
     "output_type": "stream",
     "text": [
      "a = np.full(2, 6) [6 6]\n",
      "b = np.full((3,3), 5)\n",
      "[[5 5 5]\n",
      " [5 5 5]\n",
      " [5 5 5]]\n"
     ]
    }
   ],
   "source": [
    "# fill the entire array with a certain number\n",
    "\n",
    "import numpy as np\n",
    "\n",
    "a = np.full(2, 6) #There are two elements, each is 6\n",
    "b = np.full((3,3), 5)  # shape is (3, 3)\n",
    "print(\"a = np.full(2, 6)\", a)\n",
    "print(\"b = np.full((3,3), 5)\")\n",
    "print(b)"
   ]
  },
  {
   "cell_type": "markdown",
   "metadata": {},
   "source": [
    "## 3.2 Create  n dimentional arrays"
   ]
  },
  {
   "cell_type": "markdown",
   "metadata": {},
   "source": [
    "1. Use numpy.array( ) function to convert collections (eg. list or tuple)\n",
    "   - a=np.array([[3,6,9],[12,15,18]])\n",
    "2. Use the reshape() function to reshape 1 dimentional arrays\n",
    "    - b = np.array([1, 2, 3, 4, 5, 6, 7, 8, 9]).reshape(3,3)"
   ]
  },
  {
   "cell_type": "code",
   "execution_count": 43,
   "metadata": {},
   "outputs": [
    {
     "name": "stdout",
     "output_type": "stream",
     "text": [
      "[[ 3  6  9]\n",
      " [12 15 18]] \n",
      "\n",
      "[[1 2 3]\n",
      " [4 5 6]\n",
      " [7 8 9]] \n",
      "\n",
      "[[12 65 75]\n",
      " [48 26 89]\n",
      " [39 89 25]\n",
      " [86 48 77]] \n",
      "\n",
      "[[ 3  6]\n",
      " [ 9 12]\n",
      " [15 18]] \n",
      "\n",
      "[[ 1  2  3  4  5]\n",
      " [ 6  7  8  9 10]\n",
      " [11 12 13 14 15]]\n"
     ]
    }
   ],
   "source": [
    "a = np.array([[3,6,9],[12,15,18]])\n",
    "b = np.array([1, 2, 3, 4, 5, 6, 7, 8, 9]).reshape(3,3)\n",
    "c = np.random.randint(1, 100, 12).reshape(4,3) # 12 integers from 1 to 100 (exclusive)\n",
    "d = a.reshape(3, 2)\n",
    "e = np.arange(1, 16).reshape(3, 5)\n",
    "print(a,b,c,d,e, sep=\" \\n\\n\")"
   ]
  },
  {
   "cell_type": "code",
   "execution_count": 14,
   "metadata": {},
   "outputs": [
    {
     "name": "stdout",
     "output_type": "stream",
     "text": [
      "[[ 3  6  9]\n",
      " [12 15 18]]\n",
      "\n",
      "[[0 1 2]\n",
      " [3 4 5]]\n",
      "\n",
      "[[0. 0. 0.]\n",
      " [0. 0. 0.]]\n",
      "\n",
      "[[1 1 1]\n",
      " [1 1 1]]\n",
      "\n",
      "[[0.58014816 0.87744035 0.3974824 ]\n",
      " [0.92403636 0.9506105  0.46016105]]\n"
     ]
    }
   ],
   "source": [
    "import numpy as np\n",
    "a=np.array([[3,6,9],[12,15,18]])\n",
    "b=np.arange(6).reshape(2,3)\n",
    "c = np.zeros((2,3))   # The data is all 0\n",
    "# c = np.zeros(2,3)   is incorrect\n",
    "d = np.ones((2,3), dtype = int) \n",
    "e = np.random.random((2,3)) # 6 random numbers\n",
    "print(a,b,c,d,e, sep=\"\\n\\n\")"
   ]
  },
  {
   "cell_type": "markdown",
   "metadata": {},
   "source": [
    "# 4. Visit  arrays"
   ]
  },
  {
   "cell_type": "code",
   "execution_count": 15,
   "metadata": {},
   "outputs": [
    {
     "name": "stdout",
     "output_type": "stream",
     "text": [
      "[[ 0  1  2  3]\n",
      " [ 4  5  6  7]\n",
      " [ 8  9 10 11]] \n",
      "\n",
      "a[1, 2]: 6 \n",
      "\n",
      "a[2, -1]: 11 \n",
      "\n",
      "a[1]: [4 5 6 7] \n",
      "\n",
      "a[:, 1]: [1 5 9] \n",
      "\n"
     ]
    }
   ],
   "source": [
    "import numpy as np\n",
    "\n",
    "a = np.array(np.arange(12).reshape(3,4))\n",
    "print(a, '\\n')\n",
    "print('a[1, 2]:', a[1, 2], '\\n')\n",
    "# get an element, the element on the 2nd row, 3th column\n",
    "print('a[2, -1]:', a[2, -1], '\\n')\n",
    "print('a[1]:', a[1], '\\n')        \n",
    "# get a row  (horizontal)\n",
    "print('a[:, 1]:', a[:, 1], '\\n')  \n",
    "# get a column (vertical)"
   ]
  },
  {
   "cell_type": "code",
   "execution_count": 7,
   "metadata": {},
   "outputs": [
    {
     "name": "stdout",
     "output_type": "stream",
     "text": [
      "[[ 0  1  2  3]\n",
      " [ 4  5  6  7]\n",
      " [ 8  9 10 11]]\n"
     ]
    }
   ],
   "source": [
    "import numpy as np\n",
    "\n",
    "a = np.array(np.arange(12).reshape(3,4))\n",
    "print(a)"
   ]
  },
  {
   "cell_type": "code",
   "execution_count": 46,
   "metadata": {},
   "outputs": [
    {
     "name": "stdout",
     "output_type": "stream",
     "text": [
      "1\n",
      "2\n",
      "3\n",
      "4\n",
      "5\n"
     ]
    }
   ],
   "source": [
    "import numpy as np\n",
    "\n",
    "a = np.array([1, 2, 3, 4, 5])\n",
    "for ele in a:\n",
    "    print(ele)"
   ]
  },
  {
   "cell_type": "code",
   "execution_count": 48,
   "metadata": {},
   "outputs": [
    {
     "name": "stdout",
     "output_type": "stream",
     "text": [
      "[1 2]\n",
      "[3 4]\n",
      "[5 6]\n",
      "\n",
      "1  2  3  4  5  6  "
     ]
    }
   ],
   "source": [
    "import numpy as np\n",
    "\n",
    "a = np.array([[1, 2], [3, 4], [5, 6]])\n",
    "for ele in a:\n",
    "    print(ele)\n",
    "\n",
    "print()\n",
    "\n",
    "for ele in a:\n",
    "    for item in ele:\n",
    "        print(str(item), end=\"  \")"
   ]
  },
  {
   "cell_type": "markdown",
   "metadata": {},
   "source": [
    "# 5. Slicing arrays"
   ]
  },
  {
   "cell_type": "code",
   "execution_count": 16,
   "metadata": {},
   "outputs": [
    {
     "name": "stdout",
     "output_type": "stream",
     "text": [
      "a=[1 2 3 4 5 6 7 8 9]\n",
      "a[1:3]=[2 3]\n",
      "a[:4]=[1 2 3 4]\n",
      "a[3:]=[4 5 6 7 8 9]\n",
      "a[2:9:3]=[3 6 9]\n",
      "a[::2]=[1 3 5 7 9]\n",
      "a[::-1]=[9 8 7 6 5 4 3 2 1]\n",
      "a[2:-2]=[3 4 5 6 7]\n"
     ]
    }
   ],
   "source": [
    "import numpy as np\n",
    "\n",
    "a = np.array([1, 2, 3, 4, 5, 6, 7, 8, 9])\n",
    "print(\"a=\" + str(a)) # str(a) is the string '[1 2 3 4 5 6 7 8 9]'\n",
    "\n",
    "b = a[1:3] # indices 1,2\n",
    "print(\"a[1:3]=\" + str(b))\n",
    "b = a[:4] # indices 0,1,2,3\n",
    "print(\"a[:4]=\" + str(b))\n",
    "b = a[3:] # indices 3,4,5,6,7,8\n",
    "print(\"a[3:]=\" + str(b))\n",
    "b = a[2:9:3] # indices 2,5,8\n",
    "print(\"a[2:9:3]=\" + str(b))\n",
    "b = a[::2] # indices 0,2,4,6,8\n",
    "print(\"a[::2]=\" + str(b))\n",
    "b = a[::-1] # indices 8,7,6,5,4,3,2,1,0\n",
    "print(\"a[::-1]=\" + str(b))\n",
    "b = a[2:-2] # indices 2,3,4,5,6,7\n",
    "print(\"a[2:-2]=\" + str(b))"
   ]
  },
  {
   "cell_type": "code",
   "execution_count": 1,
   "metadata": {},
   "outputs": [
    {
     "name": "stdout",
     "output_type": "stream",
     "text": [
      "a=[1 2 3 4 5 6 7 8 9]\n",
      "1 3 9\n",
      "a[[1,3,5,7]]=[2 4 6 8]\n",
      "a[range(6)]=[1 2 3 4 5 6]\n",
      "a[[2,6]]=10->[ 1  2 10  4  5  6 10  8  9]\n"
     ]
    }
   ],
   "source": [
    "# Given a list of indices, extract the selected elements to create a new array\n",
    "\n",
    "import numpy as np\n",
    "\n",
    "a = np.array([1, 2, 3, 4, 5, 6, 7, 8, 9])\n",
    "print(\"a=\" + str(a))\n",
    "\n",
    "print(a[0], a[2], a[-1]) # indices 0,2, last 1\n",
    "b = a[[1, 3, 5, 7]] # indices 1,3,5,7\n",
    "print(\"a[[1,3,5,7]]=\" + str(b))\n",
    "b = a[range(6)] # indices 0,1,2,3,4,5\n",
    "print(\"a[range(6)]=\" + str(b))\n",
    "a[[2, 6]] = 10 # change multiple index values ​​at the same time\n",
    "print(\"a[[2,6]]=10->\" + str(a))"
   ]
  },
  {
   "cell_type": "code",
   "execution_count": 5,
   "metadata": {},
   "outputs": [
    {
     "name": "stdout",
     "output_type": "stream",
     "text": [
      "a=\n",
      "[[ 1  2  3]\n",
      " [ 4  5  6]\n",
      " [ 7  8  9]\n",
      " [10 11 12]]\n",
      "\n",
      "a[[0,1,2],[0,1,0]]=\n",
      "[1 5 7]\n",
      "\n",
      "np.array([a[0,0],a[1,1],a[2,0]])=\n",
      "[1 5 7]\n",
      "\n",
      "idx=[0 2 0 1]\n",
      "a[np.arange(4),idx]=\n",
      "[ 1  6  7 11]\n"
     ]
    }
   ],
   "source": [
    "# example 2: Given a list of indices, extract the selected elements to create a new array\n",
    "\n",
    "import numpy as np\n",
    "\n",
    "a = np.array([[1,2,3],[4,5,6],[7,8,9],[10,11,12]])\n",
    "print(\"a=\")\n",
    "print(a)\n",
    "\n",
    "print()\n",
    "b = a[[0,1,2],[0,1,0]] # index [0,0][1,1][2,0]\n",
    "print(\"a[[0,1,2],[0,1,0]]=\")\n",
    "print(b)\n",
    "\n",
    "print()\n",
    "b = np.array([a[0,0],a[1,1],a[2,0]]) # index [0,0][1,1][2,0]\n",
    "print(\"np.array([a[0,0],a[1,1],a[2,0]])=\")\n",
    "print(b)\n",
    "\n",
    "print()\n",
    "idx = np.array([0, 2, 0, 1])\n",
    "print(\"idx=\" + str(idx))\n",
    "b = a[np.arange(4), idx] # index [0,0][1,2][2,0][3,1]\n",
    "print(\"a[np.arange(4),idx]=\")\n",
    "print(b)"
   ]
  },
  {
   "cell_type": "code",
   "execution_count": 2,
   "metadata": {},
   "outputs": [
    {
     "name": "stdout",
     "output_type": "stream",
     "text": [
      "a=[14  8 10 11  6  3 18 13 12  9]\n",
      "mask=[False False False False  True  True  True False  True  True]\n",
      "a[mask]=[ 6  3 18 12  9]\n",
      "a[a%3==0]=-1->[14  8 10 11 -1 -1 -1 13 -1 -1]\n"
     ]
    }
   ],
   "source": [
    "# Use a boolean array, which is of the same size. \n",
    "# If the element value is True, the corresponding element is selected;\n",
    "# otherwise, it is not selected.\n",
    "\n",
    "import numpy as np\n",
    "\n",
    "a = np.array([14,8,10,11,6,3,18,13,12,9])\n",
    "print(\"a=\" + str(a))\n",
    "mask = (a % 3 == 0) # create an array of boolean values\n",
    "print(\"mask=\" + str(mask))\n",
    "b = a[mask] # use boolean value array to get the value\n",
    "print(\"a[mask]=\" + str(b))\n",
    "a[a % 3 == 0] = -1 # change multiple True indexes at the same time\n",
    "print(\"a[a%3==0]=-1->\" + str(a))"
   ]
  },
  {
   "cell_type": "code",
   "execution_count": 8,
   "metadata": {},
   "outputs": [
    {
     "name": "stdout",
     "output_type": "stream",
     "text": [
      "a=\n",
      "[[1 2]\n",
      " [3 4]\n",
      " [5 6]]\n",
      "\n",
      "mask=\n",
      "[[False False]\n",
      " [ True  True]\n",
      " [ True  True]]\n",
      "\n",
      "a[mask]=[3 4 5 6]\n",
      "\n",
      "a[a>2]=-1->\n",
      "[[ 1  2]\n",
      " [-1 -1]\n",
      " [-1 -1]]\n"
     ]
    }
   ],
   "source": [
    "# use integer value index\n",
    "\n",
    "import numpy as np\n",
    "\n",
    "a = np.array([[1,2],[3,4],[5,6]])\n",
    "print(\"a=\")\n",
    "print(a)\n",
    "\n",
    "print()\n",
    "mask = (a > 2)\n",
    "print(\"mask=\")\n",
    "print(mask)\n",
    "\n",
    "b = a[mask] # use boolean value array to get the value\n",
    "print()\n",
    "print(\"a[mask]=\" + str(b))\n",
    "\n",
    "a[a > 2] = -1 # Change multiple True indexes at the same time\n",
    "print()\n",
    "print(\"a[a>2]=-1->\")\n",
    "print(a)"
   ]
  },
  {
   "cell_type": "markdown",
   "metadata": {},
   "source": [
    "# 6. Change the shape of arrays"
   ]
  },
  {
   "cell_type": "markdown",
   "metadata": {},
   "source": [
    "1. Broadcast: perform math operations between different size of arrays\n",
    "    - When there is a small size of array and a large size of array, NumPy will automatically expand small arrays to perform operations\n",
    "\n",
    "2. Re-dimension: reshape()\n",
    "\n",
    "3. Array Flattening: ravel()\n",
    "\n",
    "4. Transpose: .T (or .transpose())\n",
    "\n",
    "4. Add dimension: newaxis"
   ]
  },
  {
   "cell_type": "code",
   "execution_count": 9,
   "metadata": {},
   "outputs": [
    {
     "name": "stdout",
     "output_type": "stream",
     "text": [
      "a=\n",
      "[[ 1  2  3]\n",
      " [ 4  5  6]\n",
      " [ 7  8  9]\n",
      " [10 11 12]]\n",
      "\n",
      "shape of a: (4, 3)\n",
      "\n",
      "b=\n",
      "[1 0 1]\n",
      "\n",
      "shape of b: (3,)\n",
      "\n",
      "a+b:\n",
      "[[ 2  2  4]\n",
      " [ 5  5  7]\n",
      " [ 8  8 10]\n",
      " [11 11 13]]\n"
     ]
    }
   ],
   "source": [
    "# broadcast\n",
    "import numpy as np\n",
    "\n",
    "a = np.array([[1,2,3],[4,5,6],[7,8,9],[10,11,12]])\n",
    "print(\"a=\")\n",
    "print(a)\n",
    "print(\"\\nshape of a: \" + str(a.shape))\n",
    "\n",
    "b = np.array([1,0,1])\n",
    "print()\n",
    "print(\"b=\\n\" + str(b))\n",
    "print(\"\\nshape of b: \" + str(b.shape))\n",
    "\n",
    "print()\n",
    "c = a + b\n",
    "print('a+b:\\n', c, sep ='')"
   ]
  },
  {
   "cell_type": "code",
   "execution_count": 12,
   "metadata": {},
   "outputs": [
    {
     "name": "stdout",
     "output_type": "stream",
     "text": [
      "a=\n",
      "[[1 2 3]\n",
      " [4 5 6]]\n",
      "a.ravel()=[1 2 3 4 5 6]\n",
      "np.ravel(a)=[1 2 3 4 5 6]\n"
     ]
    }
   ],
   "source": [
    "# Array flattening: flatten a two-dimensional array into a one-dimensional array\n",
    "# python provides two formats: a.raval()  or np.ravel(a)\n",
    "\n",
    "\n",
    "import numpy as np\n",
    "\n",
    "a = np.array([[1,2,3],[4,5,6]])\n",
    "print(\"a=\")\n",
    "print(a)\n",
    "\n",
    "b = a.ravel()\n",
    "print(\"a.ravel()=\" + str(b))\n",
    "b = np.ravel(a)\n",
    "print(\"np.ravel(a)=\" + str(b))"
   ]
  },
  {
   "cell_type": "code",
   "execution_count": 14,
   "metadata": {},
   "outputs": [
    {
     "name": "stdout",
     "output_type": "stream",
     "text": [
      "a=[1 2 3 4 5 6]\n",
      "b=np.reshape(a,(3,2))->\n",
      "[[1 2]\n",
      " [3 4]\n",
      " [5 6]]\n",
      "\n",
      "c=b.T->\n",
      "[[1 3 5]\n",
      " [2 4 6]]\n",
      "\n",
      "d=b.transpose()->\n",
      "[[1 3 5]\n",
      " [2 4 6]]\n",
      "\n",
      "e=np.transpose(b)->\n",
      "[[1 3 5]\n",
      " [2 4 6]]\n"
     ]
    }
   ],
   "source": [
    "# .T\n",
    "# 3 ways: b.T    b.transpose()    np.transpose(b)\n",
    "\n",
    "import numpy as np\n",
    "\n",
    "a = np.array([1,2,3,4,5,6])\n",
    "print(\"a=\" + str(a))\n",
    "\n",
    "b = np.reshape(a,(3,2))\n",
    "print(\"b=np.reshape(a,(3,2))->\")\n",
    "print(b)\n",
    "\n",
    "print()\n",
    "c = b.T\n",
    "print(\"c=b.T->\")\n",
    "print(c)\n",
    "\n",
    "print()\n",
    "d = b.transpose()\n",
    "print(\"d=b.transpose()->\")\n",
    "print(d)\n",
    "\n",
    "print()\n",
    "e = np.transpose(b)\n",
    "print(\"e=np.transpose(b)->\")\n",
    "print(e)"
   ]
  },
  {
   "cell_type": "code",
   "execution_count": 16,
   "metadata": {},
   "outputs": [
    {
     "name": "stdout",
     "output_type": "stream",
     "text": [
      "a=[1 2 3]\n",
      "shape: (3,)\n",
      "\n",
      "b=a[:,np.newaxis]->\n",
      "[[1]\n",
      " [2]\n",
      " [3]]\n",
      "shape: (3, 1)\n",
      "\n",
      "c=a[np.newaxis,:]->\n",
      "[[1 2 3]]\n",
      "shape: (1, 3)\n"
     ]
    }
   ],
   "source": [
    "# newaxis: add dimension\n",
    "\n",
    "import numpy as np\n",
    "\n",
    "a = np.array([1,2,3])\n",
    "print(\"a=\" + str(a))\n",
    "print('shape:', a.shape)\n",
    "\n",
    "print()\n",
    "b = a[:, np.newaxis]\n",
    "print(\"b=a[:,np.newaxis]->\")\n",
    "print(b)\n",
    "print('shape:', b.shape)\n",
    "\n",
    "print()\n",
    "c = a[np.newaxis, :]\n",
    "print(\"c=a[np.newaxis,:]->\")\n",
    "print(c)\n",
    "print('shape:', c.shape)"
   ]
  },
  {
   "cell_type": "code",
   "execution_count": 19,
   "metadata": {},
   "outputs": [
    {
     "name": "stdout",
     "output_type": "stream",
     "text": [
      "a=[1 2 3]\n",
      "b=a.copy()->[1 2 3]\n",
      "b.fill(4)=[4 4 4]\n",
      "c=np.concatenate((a,b))->[1 2 3 4 4 4]\n",
      "a+b->[5 6 7]\n"
     ]
    }
   ],
   "source": [
    "# array copy and fill value\n",
    "\n",
    "import numpy as np\n",
    "\n",
    "a = np.array([1,2,3])\n",
    "print(\"a=\" + str(a))\n",
    "\n",
    "b = a.copy() # If b = a is not used, a and b will point to the same address. \n",
    "# When the content is modified, the content of both will be changed together\n",
    "# see the next code\n",
    "\n",
    "print(\"b=a.copy()->\" + str(b))\n",
    "b.fill(4)\n",
    "print(\"b.fill(4)=\" + str(b))"
   ]
  },
  {
   "cell_type": "code",
   "execution_count": 12,
   "metadata": {},
   "outputs": [
    {
     "name": "stdout",
     "output_type": "stream",
     "text": [
      "a: [2, 2, 3]\n",
      "b: [2, 2, 3]\n",
      "c: [2 2 3]\n",
      "d: [2 2 3]\n"
     ]
    }
   ],
   "source": [
    "import numpy as np\n",
    "a = [1, 2, 3]\n",
    "b = a\n",
    "b[0] = 2\n",
    "print(\"a:\", a)\n",
    "print(\"b:\", b)\n",
    "\n",
    "\n",
    "c = np.array([1, 2, 3])\n",
    "d = c\n",
    "d[0] = 2\n",
    "print(\"c:\", c)\n",
    "print(\"d:\", d)"
   ]
  },
  {
   "cell_type": "markdown",
   "metadata": {},
   "source": [
    "## 7. Array operations"
   ]
  },
  {
   "cell_type": "markdown",
   "metadata": {},
   "source": [
    "### universal function (referred to as ufunc) \n",
    "\n",
    "- Meaning: Numpy provides a function that operates on all elements\n",
    "    - For example: np.sum(), np.square(), np.sin()...\n",
    "\n",
    "- Note: Use the following method to see whether it is belong to ufunc in type  \n",
    "    - numpy.function_name?"
   ]
  },
  {
   "cell_type": "code",
   "execution_count": 13,
   "metadata": {
    "collapsed": true,
    "jupyter": {
     "outputs_hidden": true
    },
    "tags": []
   },
   "outputs": [
    {
     "data": {
      "text/plain": [
       "\u001b[1;31mCall signature:\u001b[0m  \u001b[0mnp\u001b[0m\u001b[1;33m.\u001b[0m\u001b[0msin\u001b[0m\u001b[1;33m(\u001b[0m\u001b[1;33m*\u001b[0m\u001b[0margs\u001b[0m\u001b[1;33m,\u001b[0m \u001b[1;33m**\u001b[0m\u001b[0mkwargs\u001b[0m\u001b[1;33m)\u001b[0m\u001b[1;33m\u001b[0m\u001b[1;33m\u001b[0m\u001b[0m\n",
       "\u001b[1;31mType:\u001b[0m            ufunc\n",
       "\u001b[1;31mString form:\u001b[0m     <ufunc 'sin'>\n",
       "\u001b[1;31mFile:\u001b[0m            c:\\users\\laich\\anaconda3\\lib\\site-packages\\numpy\\__init__.py\n",
       "\u001b[1;31mDocstring:\u001b[0m      \n",
       "sin(x, /, out=None, *, where=True, casting='same_kind', order='K', dtype=None, subok=True[, signature, extobj])\n",
       "\n",
       "Trigonometric sine, element-wise.\n",
       "\n",
       "Parameters\n",
       "----------\n",
       "x : array_like\n",
       "    Angle, in radians (:math:`2 \\pi` rad equals 360 degrees).\n",
       "out : ndarray, None, or tuple of ndarray and None, optional\n",
       "    A location into which the result is stored. If provided, it must have\n",
       "    a shape that the inputs broadcast to. If not provided or None,\n",
       "    a freshly-allocated array is returned. A tuple (possible only as a\n",
       "    keyword argument) must have length equal to the number of outputs.\n",
       "where : array_like, optional\n",
       "    This condition is broadcast over the input. At locations where the\n",
       "    condition is True, the `out` array will be set to the ufunc result.\n",
       "    Elsewhere, the `out` array will retain its original value.\n",
       "    Note that if an uninitialized `out` array is created via the default\n",
       "    ``out=None``, locations within it where the condition is False will\n",
       "    remain uninitialized.\n",
       "**kwargs\n",
       "    For other keyword-only arguments, see the\n",
       "    :ref:`ufunc docs <ufuncs.kwargs>`.\n",
       "\n",
       "Returns\n",
       "-------\n",
       "y : array_like\n",
       "    The sine of each element of x.\n",
       "    This is a scalar if `x` is a scalar.\n",
       "\n",
       "See Also\n",
       "--------\n",
       "arcsin, sinh, cos\n",
       "\n",
       "Notes\n",
       "-----\n",
       "The sine is one of the fundamental functions of trigonometry (the\n",
       "mathematical study of triangles).  Consider a circle of radius 1\n",
       "centered on the origin.  A ray comes in from the :math:`+x` axis, makes\n",
       "an angle at the origin (measured counter-clockwise from that axis), and\n",
       "departs from the origin.  The :math:`y` coordinate of the outgoing\n",
       "ray's intersection with the unit circle is the sine of that angle.  It\n",
       "ranges from -1 for :math:`x=3\\pi / 2` to +1 for :math:`\\pi / 2.`  The\n",
       "function has zeroes where the angle is a multiple of :math:`\\pi`.\n",
       "Sines of angles between :math:`\\pi` and :math:`2\\pi` are negative.\n",
       "The numerous properties of the sine and related functions are included\n",
       "in any standard trigonometry text.\n",
       "\n",
       "Examples\n",
       "--------\n",
       "Print sine of one angle:\n",
       "\n",
       ">>> np.sin(np.pi/2.)\n",
       "1.0\n",
       "\n",
       "Print sines of an array of angles given in degrees:\n",
       "\n",
       ">>> np.sin(np.array((0., 30., 45., 60., 90.)) * np.pi / 180. )\n",
       "array([ 0.        ,  0.5       ,  0.70710678,  0.8660254 ,  1.        ])\n",
       "\n",
       "Plot the sine function:\n",
       "\n",
       ">>> import matplotlib.pylab as plt\n",
       ">>> x = np.linspace(-np.pi, np.pi, 201)\n",
       ">>> plt.plot(x, np.sin(x))\n",
       ">>> plt.xlabel('Angle [rad]')\n",
       ">>> plt.ylabel('sin(x)')\n",
       ">>> plt.axis('tight')\n",
       ">>> plt.show()\n",
       "\u001b[1;31mClass docstring:\u001b[0m\n",
       "Functions that operate element by element on whole arrays.\n",
       "\n",
       "To see the documentation for a specific ufunc, use `info`.  For\n",
       "example, ``np.info(np.sin)``.  Because ufuncs are written in C\n",
       "(for speed) and linked into Python with NumPy's ufunc facility,\n",
       "Python's help() function finds this page whenever help() is called\n",
       "on a ufunc.\n",
       "\n",
       "A detailed explanation of ufuncs can be found in the docs for :ref:`ufuncs`.\n",
       "\n",
       "**Calling ufuncs:** ``op(*x[, out], where=True, **kwargs)``\n",
       "\n",
       "Apply `op` to the arguments `*x` elementwise, broadcasting the arguments.\n",
       "\n",
       "The broadcasting rules are:\n",
       "\n",
       "* Dimensions of length 1 may be prepended to either array.\n",
       "* Arrays may be repeated along dimensions of length 1.\n",
       "\n",
       "Parameters\n",
       "----------\n",
       "*x : array_like\n",
       "    Input arrays.\n",
       "out : ndarray, None, or tuple of ndarray and None, optional\n",
       "    Alternate array object(s) in which to put the result; if provided, it\n",
       "    must have a shape that the inputs broadcast to. A tuple of arrays\n",
       "    (possible only as a keyword argument) must have length equal to the\n",
       "    number of outputs; use None for uninitialized outputs to be\n",
       "    allocated by the ufunc.\n",
       "where : array_like, optional\n",
       "    This condition is broadcast over the input. At locations where the\n",
       "    condition is True, the `out` array will be set to the ufunc result.\n",
       "    Elsewhere, the `out` array will retain its original value.\n",
       "    Note that if an uninitialized `out` array is created via the default\n",
       "    ``out=None``, locations within it where the condition is False will\n",
       "    remain uninitialized.\n",
       "**kwargs\n",
       "    For other keyword-only arguments, see the :ref:`ufunc docs <ufuncs.kwargs>`.\n",
       "\n",
       "Returns\n",
       "-------\n",
       "r : ndarray or tuple of ndarray\n",
       "    `r` will have the shape that the arrays in `x` broadcast to; if `out` is\n",
       "    provided, it will be returned. If not, `r` will be allocated and\n",
       "    may contain uninitialized values. If the function has more than one\n",
       "    output, then the result will be a tuple of arrays.\n"
      ]
     },
     "metadata": {},
     "output_type": "display_data"
    }
   ],
   "source": [
    "import numpy as np\n",
    "\n",
    "np.sin?"
   ]
  },
  {
   "cell_type": "code",
   "execution_count": 21,
   "metadata": {},
   "outputs": [
    {
     "name": "stdout",
     "output_type": "stream",
     "text": [
      "[[ 6  9 12]\n",
      " [15 18 21]]\n"
     ]
    }
   ],
   "source": [
    "# operations on Array and constant \n",
    "\n",
    "import numpy as np\n",
    "a=np.array([[3,6,9],[12,15,18]])\n",
    "b = a + 3\n",
    "print(b)"
   ]
  },
  {
   "cell_type": "code",
   "execution_count": 22,
   "metadata": {},
   "outputs": [
    {
     "name": "stdout",
     "output_type": "stream",
     "text": [
      "a:\n",
      " [[ 2  4  6]\n",
      " [ 8 10 12]]\n",
      "\n",
      "b:\n",
      " [[1 2 3]\n",
      " [4 5 6]]\n",
      "\n",
      "a+b:\n",
      " [[ 3  6  9]\n",
      " [12 15 18]]\n",
      "\n",
      "a-b:\n",
      " [[1 2 3]\n",
      " [4 5 6]]\n",
      "\n",
      "a*b:\n",
      " [[ 2  8 18]\n",
      " [32 50 72]]\n",
      "\n",
      "a/b:\n",
      " [[2. 2. 2.]\n",
      " [2. 2. 2.]]\n"
     ]
    }
   ],
   "source": [
    "# Addition, subtraction, multiplication and division of two arrays (*non-matrix multiplication*)\n",
    "import numpy as np\n",
    "a=np.array([[2,4,6],[8,10,12]])\n",
    "b=np.arange(1,7).reshape((2,3))\n",
    "print(\"a:\\n\", a)\n",
    "print(\"\\nb:\\n\", b)\n",
    "print(\"\\na+b:\\n\", a+b)\n",
    "print(\"\\na-b:\\n\", a-b)\n",
    "print(\"\\na*b:\\n\", a*b)\n",
    "print(\"\\na/b:\\n\", a/b)"
   ]
  },
  {
   "cell_type": "code",
   "execution_count": 23,
   "metadata": {},
   "outputs": [
    {
     "name": "stdout",
     "output_type": "stream",
     "text": [
      "[[  4  16  36]\n",
      " [ 64 100 144]]\n",
      "\n",
      "[[False  True  True]\n",
      " [ True  True  True]]\n"
     ]
    }
   ],
   "source": [
    "import numpy as np\n",
    "a=np.array([[2,4,6],[8,10,12]])\n",
    "a = a ** 2 # square\n",
    "print(a)\n",
    "\n",
    "print()\n",
    "print(a>10)"
   ]
  },
  {
   "cell_type": "code",
   "execution_count": 17,
   "metadata": {},
   "outputs": [
    {
     "name": "stdout",
     "output_type": "stream",
     "text": [
      "a=\n",
      "[[ 2  4  6]\n",
      " [ 8 10 12]]\n",
      "b=\n",
      "[[0 1 2]\n",
      " [3 4 5]]\n",
      "b.T=\n",
      "[[0 3]\n",
      " [1 4]\n",
      " [2 5]]\n",
      "np.dot(a, b.T)\n",
      "[[ 16  52]\n",
      " [ 34 124]]\n"
     ]
    }
   ],
   "source": [
    "# matrix multiplication numpy.dot()\n",
    "import numpy as np\n",
    "a=np.array([[2,4,6],[8,10,12]])\n",
    "b=np.arange(6).reshape((2,3))\n",
    "print(\"a=\")\n",
    "print(a)\n",
    "print(\"b=\")\n",
    "print(b)\n",
    "print(\"b.T=\")\n",
    "print(b.T) # transpose\n",
    "print(\"np.dot(a, b.T)\")\n",
    "print(np.dot(a,b.T))"
   ]
  },
  {
   "cell_type": "code",
   "execution_count": 26,
   "metadata": {},
   "outputs": [
    {
     "name": "stdout",
     "output_type": "stream",
     "text": [
      "[[ 3  6  9]\n",
      " [12 15 18]]\n",
      "\n",
      "sum(a): 63\n",
      "sum(a, axis=1): [18 45]\n",
      "sum(a, axis=0): [15 21 27]\n",
      "[18 45]\n"
     ]
    }
   ],
   "source": [
    "# We can specify the connection direction of the parameter axis axis\n",
    "# the parameter value 0 is the vertical direction, which can be connected below the two-dimensional array; \n",
    "# the value 1 is the horizontal direction\n",
    "\n",
    "import numpy as np\n",
    "a=np.array([[3,6,9],[12,15,18]])\n",
    "\n",
    "print(a)\n",
    "print()\n",
    "print(\"sum(a):\", np.sum(a))\n",
    "print(\"sum(a, axis=1):\",np.sum(a, axis=1))\n",
    "\n",
    "print(\"sum(a, axis=0):\",np.sum(a, axis=0))\n",
    "\n",
    "print(a.sum(axis = 1))"
   ]
  },
  {
   "cell_type": "markdown",
   "metadata": {},
   "source": [
    "#### concatenate( ) can merge two arrays or join elements"
   ]
  },
  {
   "cell_type": "code",
   "execution_count": 29,
   "metadata": {},
   "outputs": [
    {
     "name": "stdout",
     "output_type": "stream",
     "text": [
      "c=np.concatenate((a,b))->\n",
      "[[1 2]\n",
      " [3 4]\n",
      " [5 6]\n",
      " [7 8]]\n",
      "c=np.concatenate((a,b), axis=0)->\n",
      "[[1 2]\n",
      " [3 4]\n",
      " [5 6]\n",
      " [7 8]]\n",
      "c=np.concatenate((a,b), axis=1)->\n",
      "[[1 2 5 6]\n",
      " [3 4 7 8]]\n"
     ]
    }
   ],
   "source": [
    "# When using the np.concatenate() function to concatenate two-dimensional arrays,\n",
    "# axis: 0 is the vertical direction (the default is 0)\n",
    "# axis: 1 is the horizontal direction\n",
    "\n",
    "import numpy as np\n",
    "\n",
    "a = np.array([[1,2],[3,4]])\n",
    "b = np.array([[5,6],[7,8]])\n",
    "\n",
    "c = np.concatenate((a,b))            # default of axis is 0\n",
    "print(\"c=np.concatenate((a,b))->\")\n",
    "print(c)\n",
    "c = np.concatenate((a,b), axis=0)\n",
    "print(\"c=np.concatenate((a,b), axis=0)->\")\n",
    "print(c)\n",
    "c = np.concatenate((a,b), axis=1)\n",
    "print(\"c=np.concatenate((a,b), axis=1)->\")\n",
    "print(c)"
   ]
  },
  {
   "cell_type": "code",
   "execution_count": 28,
   "metadata": {},
   "outputs": [
    {
     "name": "stdout",
     "output_type": "stream",
     "text": [
      "[ 2  4  6  8 10 12]\n",
      "\n",
      "[0 1 2 3 4 5 6 7 8 9]\n",
      "\n",
      "[ 2  4  6  8 10 12  0  1  2  3  4  5  6  7  8  9]\n",
      "\n",
      "[ 2  4  6  8 10 12 10 20]\n"
     ]
    }
   ],
   "source": [
    "import numpy as np\n",
    "a = np.array([2,4,6,8,10,12])\n",
    "b = np.arange(10)\n",
    "c = np.concatenate((a,b))\n",
    "d = np.concatenate((a,[10,20]))\n",
    "print(a,b,c,d, sep=\"\\n\\n\")"
   ]
  },
  {
   "cell_type": "code",
   "execution_count": 18,
   "metadata": {},
   "outputs": [
    {
     "name": "stdout",
     "output_type": "stream",
     "text": [
      "np.vstack((A,B))\n",
      "[[1 1 1]\n",
      " [2 2 2]]\n",
      "np.hstack((A,B))\n",
      "[1 1 1 2 2 2]\n",
      "np.concatenate((A, B), axis=0)\n",
      "[1 1 1 2 2 2]\n"
     ]
    }
   ],
   "source": [
    "# Numpy Array Merger\n",
    "\n",
    "import numpy as np\n",
    "A = np.array([1,1,1])\n",
    "B = np.array([2,2,2])\n",
    "print(\"np.vstack((A,B))\")\n",
    "print(np.vstack((A,B))) #vertical\n",
    "print(\"np.hstack((A,B))\")\n",
    "print(np.hstack((A,B))) #horizontal, same as np.concatenate((A, B), axis=0)\n",
    "print(\"np.concatenate((A, B), axis=0)\")\n",
    "c = np.concatenate((A, B), axis=0)\n",
    "print(c)"
   ]
  },
  {
   "cell_type": "markdown",
   "metadata": {},
   "source": [
    "# 8. Random Numbers"
   ]
  },
  {
   "cell_type": "markdown",
   "metadata": {},
   "source": [
    "### The format is: numpy.random.Random_Method()\n",
    "\n",
    "-numpy.random.randint(1, 6, 5)"
   ]
  },
  {
   "cell_type": "markdown",
   "metadata": {},
   "source": [
    "- random ( ): Generates random numbers between 0.0 and 1.0, such as 0.7298076072029743\n",
    "- random (5): Generates 5 random numbers between 0.0 and 1.0, which form a series of 5 elements, such as [0.58607119 0.37147243 0.05337405 0.49300567 0.10304672]\n",
    "-random ((3,4))): Generate random numbers in a two-dimensional array"
   ]
  },
  {
   "cell_type": "markdown",
   "metadata": {},
   "source": [
    "### - numpy.random.randint (min, max, size)\n",
    "    - np.random.randint(low=0, high=2, size=10)\n",
    "    - Generate a random integer between min ~ max (exclude max)\n",
    "    - randint(5, 10): Generate an integer random number between 5 and 10, 10 excluded\n",
    "    - randint(5, 10, 6): Generates an array of 6 integers from 5 to 10 (exclusive)\n",
    "    - randint(1, 101, (3,4)): Generate a two-dimensional array of 3 * 4 integers from 1 to 101 (exclusive)"
   ]
  },
  {
   "cell_type": "code",
   "execution_count": 16,
   "metadata": {},
   "outputs": [
    {
     "name": "stdout",
     "output_type": "stream",
     "text": [
      "throws1: 0\n",
      "throws2: 2\n",
      "throws3: [1 1 1 0 1 0 0 0 0 0]\n",
      "throws4: [0 0 1 1 0 1 1 0 0 1]\n",
      "throws5:\n",
      " [[0 1 0 1]\n",
      " [1 1 0 1]\n",
      " [1 0 0 0]]\n"
     ]
    }
   ],
   "source": [
    "import numpy as np\n",
    "import random\n",
    "\n",
    "throws1 = np.random.randint(0, 2)  # exclude 2\n",
    "throws2 = random.randint(0,2)  # include 2\n",
    "\n",
    "throws3 = np.random.randint(low=0, high=2, size=10) # 100 random numbers\n",
    "throws4 = np.random.randint(0, 2, 10)  # 10 random numbers, no argument names\n",
    "throws5 = np.random.randint(0, 2, (3,4))\n",
    "print(\"throws1:\", throws1)\n",
    "print(\"throws2:\", throws2)\n",
    "print(\"throws3:\", throws3)\n",
    "print(\"throws4:\", throws4)\n",
    "print(\"throws5:\\n\", throws5)"
   ]
  },
  {
   "cell_type": "code",
   "execution_count": 10,
   "metadata": {},
   "outputs": [
    {
     "name": "stdout",
     "output_type": "stream",
     "text": [
      "[1, 0, 0, 1, 0, 1, 0, 0, 1, 1, 1, 0, 1, 0, 0, 1, 0, 0, 0, 0]\n",
      "[0, 2, 1, 2, 0, 2, 2, 1, 1, 1, 0, 0, 0, 0, 0, 2, 2, 2, 0, 0]\n"
     ]
    }
   ],
   "source": [
    "# The difference between random.randint() and numpy.random.randint()\n",
    "# random.randint() can generate only one integr once and include the max integer \n",
    "\n",
    "import numpy as np\n",
    "import random\n",
    "\n",
    "a = [i for i in np.random.randint(0, 2, 20)]\n",
    "b = [random.randint(0, 2) for i in range(20)]\n",
    "print(a)\n",
    "print(b)"
   ]
  },
  {
   "cell_type": "markdown",
   "metadata": {},
   "source": [
    "###  numpy.random.rand( ): \n",
    "- Generate random values (or multidimensional arrays)\n",
    "- rand(): Generate a random number between 0 and 1\n",
    "    - 0.9760298522559884\n",
    "- rand(5): Generate an array of 5 random numbers\n",
    "    - [0.64355233 0.06190279 0.0139926 0.49136906 0.18873564]\n",
    "- rand(3,2,4): Generate three-dimensional random numbers"
   ]
  },
  {
   "cell_type": "code",
   "execution_count": 11,
   "metadata": {},
   "outputs": [
    {
     "name": "stdout",
     "output_type": "stream",
     "text": [
      "0.14830968930303678\n",
      "\n",
      "[0.515932   0.04348586 0.63280939 0.44460455 0.95666505]\n",
      "\n",
      "[[[0.81812979 0.62287394 0.22784685 0.69673895]\n",
      "  [0.3505662  0.75817138 0.27654977 0.31212694]]\n",
      "\n",
      " [[0.39957131 0.20764292 0.06376403 0.29482427]\n",
      "  [0.19981355 0.72379316 0.44837302 0.18464895]]\n",
      "\n",
      " [[0.24539718 0.55596855 0.97351022 0.89004727]\n",
      "  [0.62415475 0.79252854 0.30423708 0.00430826]]]\n"
     ]
    }
   ],
   "source": [
    "import numpy as np\n",
    "print(np.random.rand())\n",
    "print()\n",
    "\n",
    "print (np.random.rand(5)) # A list of 5 random values\n",
    "print ()\n",
    "print (np.random.rand(3,2,4)) # Three-dimensional random numbers"
   ]
  },
  {
   "cell_type": "markdown",
   "metadata": {},
   "source": [
    "### More reference\n",
    "- Random Numbers in NumPy\n",
    "    - https://www.w3schools.com/python/numpy/numpy_random.asp\n",
    "- Random Data Distribution\n",
    "    - https://www.w3schools.com/python/numpy/numpy_random_distribution.asp"
   ]
  },
  {
   "cell_type": "markdown",
   "metadata": {},
   "source": [
    "# 9. Generic Functions"
   ]
  },
  {
   "cell_type": "markdown",
   "metadata": {},
   "source": [
    "### NumPy provides many common functions for arrays\n",
    "\n",
    "* add(x1, x2) \n",
    "* subtract(x1, x2) \n",
    "* multiply(x1, x2) \n",
    "* divide(x1, x2) \n",
    "* mod(x1, x2) \n",
    "* power(x1, x2)\n",
    "* isfinite(x) \n",
    "* isinf(x) \n",
    "* isnan(x) \n",
    "* sign(x)\n",
    "* negative(x) \n",
    "* absolute(x) \n",
    "* sum(x) \n",
    "* max(x) \n",
    "* min(x) \n",
    "\n",
    "* rint(x) \n",
    "* floor(x) \n",
    "* ceil(x) \n",
    "* sqrt(x) \n",
    "* square(x) \n",
    "* exp(x) \n",
    "* exp2(x) \n",
    "* log(x) \n",
    "* log2(x) \n",
    "* log10(x) \n",
    "* cos (x), sin (x), tan (x), acos (x), asin (x), atan (x)\n",
    "* average(x)\n",
    "    * Average with missing values: np.mean(data frame object or field)\n",
    "    * Average without missing values: np.nanmean(data frame object or field)\n",
    "* median (x)median\n",
    "    * Median with missing values: np.median(data frame object or field)\n",
    "    * Median without missing values: np.nanmedian(data frame object or field)\n",
    "* std(x)\n",
    "    * Divided into two types: maternal number estimation and sample standard deviation, see the lecture notes in the statistics course\n"
   ]
  },
  {
   "cell_type": "code",
   "execution_count": 15,
   "metadata": {},
   "outputs": [
    {
     "name": "stdout",
     "output_type": "stream",
     "text": [
      "[0.5        0.70710678 0.8660254 ]\n",
      "[0.8660254  0.70710678 0.5       ]\n",
      "[0.57735027 1.         1.73205081]\n"
     ]
    }
   ],
   "source": [
    "# Trigonometric functions\n",
    "\n",
    "import numpy as np\n",
    "\n",
    "a = np.array([30,45,60]) \n",
    "\n",
    "print(np.sin(a*np.pi/180)) \n",
    "print(np.cos(a*np.pi/180)) \n",
    "print(np.tan(a*np.pi/180)) "
   ]
  },
  {
   "cell_type": "code",
   "execution_count": 19,
   "metadata": {},
   "outputs": [
    {
     "name": "stdout",
     "output_type": "stream",
     "text": [
      "[[1, 2, 3], [4, 5, 6]]\n",
      "np.mean(a)\n",
      "3.5\n",
      "np.mean(a, axis = 0)\n",
      "[2.5 3.5 4.5]\n",
      "np.mean(a, 0)\n",
      "[2.5 3.5 4.5]\n",
      "np.mean(a, axis = 1)\n",
      "[2. 5.]\n",
      "np.mean(a, 1)\n",
      "[2. 5.]\n"
     ]
    }
   ],
   "source": [
    "# Find average\n",
    "\n",
    "import numpy as np\n",
    "a = [[1,2,3], [4,5,6]]\n",
    "print(a)\n",
    "print(\"np.mean(a)\")\n",
    "print(np.mean(a))\n",
    "print(\"np.mean(a, axis = 0)\")\n",
    "print(np.mean(a, axis = 0))\n",
    "print(\"np.mean(a, 0)\")\n",
    "print(np.mean(a, 0))\n",
    "print(\"np.mean(a, axis = 1)\")\n",
    "print(np.mean(a, axis = 1))\n",
    "print(\"np.mean(a, 1)\")\n",
    "print(np.mean(a, 1))"
   ]
  },
  {
   "cell_type": "code",
   "execution_count": 17,
   "metadata": {},
   "outputs": [
    {
     "name": "stdout",
     "output_type": "stream",
     "text": [
      "[nan 10. 20.]\n",
      "nan\n",
      "15.0\n"
     ]
    }
   ],
   "source": [
    "import numpy as np\n",
    "\n",
    "b = np.array([np.nan, 10, 20])\n",
    "print(b)\n",
    "print(np.mean(b))\n",
    "print(np.nanmean(b))"
   ]
  },
  {
   "cell_type": "markdown",
   "metadata": {},
   "source": [
    "# 10. Save and read file"
   ]
  },
  {
   "cell_type": "code",
   "execution_count": null,
   "metadata": {},
   "outputs": [],
   "source": [
    "# save the array as a file"
   ]
  },
  {
   "cell_type": "code",
   "execution_count": 20,
   "metadata": {},
   "outputs": [],
   "source": [
    "# binary file\n",
    "\n",
    "import numpy as np\n",
    "\n",
    "a = np.arange(10)\n",
    "outputfile = \"Example.npy\"\n",
    "with open(outputfile, 'wb') as fp:\n",
    "    np.save(fp, a)"
   ]
  },
  {
   "cell_type": "code",
   "execution_count": 21,
   "metadata": {},
   "outputs": [],
   "source": [
    "# Set the separator character, delimiter = ','\n",
    "# savetxt save in CSV format\n",
    "\n",
    "import numpy as np\n",
    "\n",
    "a = np.array([[1,2,3],[4,5,6]])\n",
    "outputfile = \"Example1.csv\"\n",
    "np.savetxt(outputfile, a, delimiter=',')"
   ]
  },
  {
   "cell_type": "code",
   "execution_count": 105,
   "metadata": {
    "collapsed": true,
    "jupyter": {
     "outputs_hidden": true
    }
   },
   "outputs": [
    {
     "data": {
      "text/plain": [
       "(4.0, 5.0, 6.0)"
      ]
     },
     "execution_count": 105,
     "metadata": {},
     "output_type": "execute_result"
    }
   ],
   "source": [
    "# Example.csv\n",
    "1.000000000000000000e+00,2.000000000000000000e+00,3.000000000000000000e+00\n",
    "4.000000000000000000e+00,5.000000000000000000e+00,6.000000000000000000e+00"
   ]
  },
  {
   "cell_type": "code",
   "execution_count": 22,
   "metadata": {},
   "outputs": [
    {
     "name": "stdout",
     "output_type": "stream",
     "text": [
      "[[1 2 3]\n",
      " [4 5 6]]\n"
     ]
    }
   ],
   "source": [
    "# Set the separator character, delimiter = ','\n",
    "# savetxt save in CSV format\n",
    "import numpy as np\n",
    "\n",
    "a = np.array([[1,2,3],[4,5,6]], dtype = int)\n",
    "outputfile = \"Example.out\"\n",
    "np.savetxt(outputfile, a, delimiter=',')\n",
    "print(a)"
   ]
  },
  {
   "cell_type": "code",
   "execution_count": 107,
   "metadata": {
    "collapsed": true,
    "jupyter": {
     "outputs_hidden": true
    }
   },
   "outputs": [
    {
     "data": {
      "text/plain": [
       "(4.0, 5.0, 6.0)"
      ]
     },
     "execution_count": 107,
     "metadata": {},
     "output_type": "execute_result"
    }
   ],
   "source": [
    "# Example.out\n",
    "1.000000000000000000e+00,2.000000000000000000e+00,3.000000000000000000e+00\n",
    "4.000000000000000000e+00,5.000000000000000000e+00,6.000000000000000000e+00"
   ]
  },
  {
   "cell_type": "code",
   "execution_count": null,
   "metadata": {},
   "outputs": [],
   "source": [
    "# Read binary file\n",
    "\n",
    "import numpy as np\n",
    "\n",
    "outputfile = \"Example.npy\"\n",
    "with open(outputfile, 'rb') as fp:\n",
    "    a = np.load(fp)\n",
    "print(a)"
   ]
  },
  {
   "cell_type": "code",
   "execution_count": 23,
   "metadata": {},
   "outputs": [
    {
     "name": "stdout",
     "output_type": "stream",
     "text": [
      "[[1. 2. 3.]\n",
      " [4. 5. 6.]]\n",
      "\n",
      "[[1 2 3]\n",
      " [4 5 6]]\n"
     ]
    }
   ],
   "source": [
    "# Read text file\n",
    "\n",
    "import numpy as np\n",
    "\n",
    "outputfile = \"Example.out\"\n",
    "a = np.loadtxt(outputfile, delimiter=',')\n",
    "print(a)\n",
    "print()\n",
    "\n",
    "b = a.astype(int)\n",
    "print(b)"
   ]
  },
  {
   "cell_type": "markdown",
   "metadata": {},
   "source": [
    "## Reference:\n",
    "- Yunjie Chen  (2018). Python data science and artificial intelligence application practice. Taipei: Flag.\n",
    "- W3School website\n",
    "- Numpy official website"
   ]
  },
  {
   "cell_type": "markdown",
   "metadata": {},
   "source": [
    "### Advanced topic: Structured array\n",
    "- https://numpy.org/doc/stable/user/basics.rec.html\n",
    "- https://iter01.com/597990.html"
   ]
  }
 ],
 "metadata": {
  "kernelspec": {
   "display_name": "Python 3 (ipykernel)",
   "language": "python",
   "name": "python3"
  },
  "language_info": {
   "codemirror_mode": {
    "name": "ipython",
    "version": 3
   },
   "file_extension": ".py",
   "mimetype": "text/x-python",
   "name": "python",
   "nbconvert_exporter": "python",
   "pygments_lexer": "ipython3",
   "version": "3.9.7"
  },
  "latex_envs": {
   "LaTeX_envs_menu_present": true,
   "autoclose": false,
   "autocomplete": true,
   "bibliofile": "biblio.bib",
   "cite_by": "apalike",
   "current_citInitial": 1,
   "eqLabelWithNumbers": true,
   "eqNumInitial": 1,
   "hotkeys": {
    "equation": "Ctrl-E",
    "itemize": "Ctrl-I"
   },
   "labels_anchors": false,
   "latex_user_defs": false,
   "report_style_numbering": false,
   "user_envs_cfg": false
  },
  "nbTranslate": {
   "displayLangs": [],
   "hotkey": "alt-t",
   "langInMainMenu": true,
   "sourceLang": "zh-tw",
   "targetLang": "en",
   "useGoogleTranslate": true
  }
 },
 "nbformat": 4,
 "nbformat_minor": 4
}
