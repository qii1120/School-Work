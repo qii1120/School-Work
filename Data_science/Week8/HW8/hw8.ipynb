{
 "cells": [
  {
   "cell_type": "code",
   "execution_count": 29,
   "metadata": {},
   "outputs": [
    {
     "name": "stdout",
     "output_type": "stream",
     "text": [
      "Nantou County\n",
      "26 - 29\n"
     ]
    }
   ],
   "source": [
    "import time\n",
    "import pandas as pd\n",
    "\n",
    "from selenium import webdriver\n",
    "from selenium.webdriver.common.by import By\n",
    "from selenium.webdriver.support.ui import Select\n",
    "\n",
    "def print_data():\n",
    "    target = driver.find_element(By.XPATH, '//*[@id=\"PC_Week_MOD\"]/thead/tr/th[1]').text\n",
    "    temperature = driver.find_element(By.XPATH, '//*[@id=\"PC_Week_MOD\"]/tbody/tr[1]/td[1]/p/span[1]').text\n",
    "    print(target)\n",
    "    print(temperature)\n",
    "\n",
    "# initial\n",
    "city = input()\n",
    "url = 'https://www.cwb.gov.tw/V8/E/W/County/County.html'\n",
    "driver = webdriver.Chrome()\n",
    "driver.get(url)\n",
    "\n",
    "# search\n",
    "select_element = driver.find_element(By.ID, 'CID')\n",
    "select = Select(select_element)\n",
    "if city == 'all':\n",
    "    for idx in range(1, 23):\n",
    "        select_element = driver.find_element(By.ID, 'CID')\n",
    "        select = Select(select_element)\n",
    "        select.select_by_index(idx)\n",
    "\n",
    "        print_data()\n",
    "\n",
    "        time.sleep(1)\n",
    "\n",
    "\n",
    "else:\n",
    "    select.select_by_visible_text(city)\n",
    "    print_data()\n",
    "\n",
    "time.sleep(1)\n",
    "driver.quit()"
   ]
  },
  {
   "cell_type": "code",
   "execution_count": null,
   "metadata": {},
   "outputs": [],
   "source": []
  },
  {
   "cell_type": "code",
   "execution_count": null,
   "metadata": {},
   "outputs": [],
   "source": []
  }
 ],
 "metadata": {
  "kernelspec": {
   "display_name": "Python 3",
   "language": "python",
   "name": "python3"
  },
  "language_info": {
   "codemirror_mode": {
    "name": "ipython",
    "version": 3
   },
   "file_extension": ".py",
   "mimetype": "text/x-python",
   "name": "python",
   "nbconvert_exporter": "python",
   "pygments_lexer": "ipython3",
   "version": "3.9.6"
  },
  "orig_nbformat": 4
 },
 "nbformat": 4,
 "nbformat_minor": 2
}
