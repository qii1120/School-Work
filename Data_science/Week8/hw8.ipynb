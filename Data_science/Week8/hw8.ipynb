{
 "cells": [
  {
   "cell_type": "code",
   "execution_count": 6,
   "metadata": {},
   "outputs": [
    {
     "name": "stdout",
     "output_type": "stream",
     "text": [
      "Keelung City\n",
      "19 - 24\n",
      "Taipei City\n",
      "17 - 26\n",
      "New Taipei City\n",
      "18 - 26\n",
      "Taoyuan City\n",
      "18 - 26\n",
      "Hsinchu City\n",
      "19 - 25\n",
      "Hsinchu County\n",
      "19 - 26\n",
      "Miaoli County\n",
      "19 - 26\n",
      "Taichung City\n",
      "20 - 28\n"
     ]
    },
    {
     "ename": "StaleElementReferenceException",
     "evalue": "Message: stale element reference: stale element not found\n  (Session info: chrome=113.0.5672.92)\nStacktrace:\n0   chromedriver                        0x0000000102d7f8ac chromedriver + 4257964\n1   chromedriver                        0x0000000102d77f40 chromedriver + 4226880\n2   chromedriver                        0x00000001029b49d4 chromedriver + 281044\n3   chromedriver                        0x00000001029b9200 chromedriver + 299520\n4   chromedriver                        0x00000001029bab34 chromedriver + 305972\n5   chromedriver                        0x00000001029bac24 chromedriver + 306212\n6   chromedriver                        0x00000001029ea0ec chromedriver + 499948\n7   chromedriver                        0x00000001029e51cc chromedriver + 479692\n8   chromedriver                        0x0000000102a267e4 chromedriver + 747492\n9   chromedriver                        0x00000001029e398c chromedriver + 473484\n10  chromedriver                        0x00000001029e498c chromedriver + 477580\n11  chromedriver                        0x0000000102d3e900 chromedriver + 3991808\n12  chromedriver                        0x0000000102d42354 chromedriver + 4006740\n13  chromedriver                        0x0000000102d42940 chromedriver + 4008256\n14  chromedriver                        0x0000000102d4833c chromedriver + 4031292\n15  chromedriver                        0x0000000102d42f34 chromedriver + 4009780\n16  chromedriver                        0x0000000102d1b490 chromedriver + 3847312\n17  chromedriver                        0x0000000102d609f4 chromedriver + 4131316\n18  chromedriver                        0x0000000102d60b4c chromedriver + 4131660\n19  chromedriver                        0x0000000102d71230 chromedriver + 4198960\n20  libsystem_pthread.dylib             0x000000018cb97fa8 _pthread_start + 148\n21  libsystem_pthread.dylib             0x000000018cb92da0 thread_start + 8\n",
     "output_type": "error",
     "traceback": [
      "\u001b[0;31m---------------------------------------------------------------------------\u001b[0m",
      "\u001b[0;31mStaleElementReferenceException\u001b[0m            Traceback (most recent call last)",
      "Cell \u001b[0;32mIn[6], line 29\u001b[0m\n\u001b[1;32m     26\u001b[0m         select \u001b[39m=\u001b[39m Select(select_element)\n\u001b[1;32m     27\u001b[0m         select\u001b[39m.\u001b[39mselect_by_index(idx)\n\u001b[0;32m---> 29\u001b[0m         print_data()\n\u001b[1;32m     31\u001b[0m         time\u001b[39m.\u001b[39msleep(\u001b[39m1\u001b[39m)\n\u001b[1;32m     34\u001b[0m \u001b[39melse\u001b[39;00m:\n",
      "Cell \u001b[0;32mIn[6], line 10\u001b[0m, in \u001b[0;36mprint_data\u001b[0;34m()\u001b[0m\n\u001b[1;32m      8\u001b[0m \u001b[39mdef\u001b[39;00m \u001b[39mprint_data\u001b[39m():\n\u001b[1;32m      9\u001b[0m     target \u001b[39m=\u001b[39m driver\u001b[39m.\u001b[39mfind_element(By\u001b[39m.\u001b[39mXPATH, \u001b[39m'\u001b[39m\u001b[39m//*[@id=\u001b[39m\u001b[39m\"\u001b[39m\u001b[39mPC_Week_MOD\u001b[39m\u001b[39m\"\u001b[39m\u001b[39m]/thead/tr/th[1]\u001b[39m\u001b[39m'\u001b[39m)\u001b[39m.\u001b[39mtext\n\u001b[0;32m---> 10\u001b[0m     temperature \u001b[39m=\u001b[39m driver\u001b[39m.\u001b[39;49mfind_element(By\u001b[39m.\u001b[39;49mXPATH, \u001b[39m'\u001b[39;49m\u001b[39m//*[@id=\u001b[39;49m\u001b[39m\"\u001b[39;49m\u001b[39mPC_Week_MOD\u001b[39;49m\u001b[39m\"\u001b[39;49m\u001b[39m]/tbody/tr[1]/td[1]/p/span[1]\u001b[39;49m\u001b[39m'\u001b[39;49m)\u001b[39m.\u001b[39;49mtext\n\u001b[1;32m     11\u001b[0m     \u001b[39mprint\u001b[39m(target)\n\u001b[1;32m     12\u001b[0m     \u001b[39mprint\u001b[39m(temperature)\n",
      "File \u001b[0;32m~/Library/Python/3.9/lib/python/site-packages/selenium/webdriver/remote/webelement.py:90\u001b[0m, in \u001b[0;36mWebElement.text\u001b[0;34m(self)\u001b[0m\n\u001b[1;32m     87\u001b[0m \u001b[39m@property\u001b[39m\n\u001b[1;32m     88\u001b[0m \u001b[39mdef\u001b[39;00m \u001b[39mtext\u001b[39m(\u001b[39mself\u001b[39m) \u001b[39m-\u001b[39m\u001b[39m>\u001b[39m \u001b[39mstr\u001b[39m:\n\u001b[1;32m     89\u001b[0m \u001b[39m    \u001b[39m\u001b[39m\"\"\"The text of the element.\"\"\"\u001b[39;00m\n\u001b[0;32m---> 90\u001b[0m     \u001b[39mreturn\u001b[39;00m \u001b[39mself\u001b[39;49m\u001b[39m.\u001b[39;49m_execute(Command\u001b[39m.\u001b[39;49mGET_ELEMENT_TEXT)[\u001b[39m\"\u001b[39m\u001b[39mvalue\u001b[39m\u001b[39m\"\u001b[39m]\n",
      "File \u001b[0;32m~/Library/Python/3.9/lib/python/site-packages/selenium/webdriver/remote/webelement.py:404\u001b[0m, in \u001b[0;36mWebElement._execute\u001b[0;34m(self, command, params)\u001b[0m\n\u001b[1;32m    402\u001b[0m     params \u001b[39m=\u001b[39m {}\n\u001b[1;32m    403\u001b[0m params[\u001b[39m\"\u001b[39m\u001b[39mid\u001b[39m\u001b[39m\"\u001b[39m] \u001b[39m=\u001b[39m \u001b[39mself\u001b[39m\u001b[39m.\u001b[39m_id\n\u001b[0;32m--> 404\u001b[0m \u001b[39mreturn\u001b[39;00m \u001b[39mself\u001b[39;49m\u001b[39m.\u001b[39;49m_parent\u001b[39m.\u001b[39;49mexecute(command, params)\n",
      "File \u001b[0;32m~/Library/Python/3.9/lib/python/site-packages/selenium/webdriver/remote/webdriver.py:440\u001b[0m, in \u001b[0;36mWebDriver.execute\u001b[0;34m(self, driver_command, params)\u001b[0m\n\u001b[1;32m    438\u001b[0m response \u001b[39m=\u001b[39m \u001b[39mself\u001b[39m\u001b[39m.\u001b[39mcommand_executor\u001b[39m.\u001b[39mexecute(driver_command, params)\n\u001b[1;32m    439\u001b[0m \u001b[39mif\u001b[39;00m response:\n\u001b[0;32m--> 440\u001b[0m     \u001b[39mself\u001b[39;49m\u001b[39m.\u001b[39;49merror_handler\u001b[39m.\u001b[39;49mcheck_response(response)\n\u001b[1;32m    441\u001b[0m     response[\u001b[39m\"\u001b[39m\u001b[39mvalue\u001b[39m\u001b[39m\"\u001b[39m] \u001b[39m=\u001b[39m \u001b[39mself\u001b[39m\u001b[39m.\u001b[39m_unwrap_value(response\u001b[39m.\u001b[39mget(\u001b[39m\"\u001b[39m\u001b[39mvalue\u001b[39m\u001b[39m\"\u001b[39m, \u001b[39mNone\u001b[39;00m))\n\u001b[1;32m    442\u001b[0m     \u001b[39mreturn\u001b[39;00m response\n",
      "File \u001b[0;32m~/Library/Python/3.9/lib/python/site-packages/selenium/webdriver/remote/errorhandler.py:245\u001b[0m, in \u001b[0;36mErrorHandler.check_response\u001b[0;34m(self, response)\u001b[0m\n\u001b[1;32m    243\u001b[0m         alert_text \u001b[39m=\u001b[39m value[\u001b[39m\"\u001b[39m\u001b[39malert\u001b[39m\u001b[39m\"\u001b[39m]\u001b[39m.\u001b[39mget(\u001b[39m\"\u001b[39m\u001b[39mtext\u001b[39m\u001b[39m\"\u001b[39m)\n\u001b[1;32m    244\u001b[0m     \u001b[39mraise\u001b[39;00m exception_class(message, screen, stacktrace, alert_text)  \u001b[39m# type: ignore[call-arg]  # mypy is not smart enough here\u001b[39;00m\n\u001b[0;32m--> 245\u001b[0m \u001b[39mraise\u001b[39;00m exception_class(message, screen, stacktrace)\n",
      "\u001b[0;31mStaleElementReferenceException\u001b[0m: Message: stale element reference: stale element not found\n  (Session info: chrome=113.0.5672.92)\nStacktrace:\n0   chromedriver                        0x0000000102d7f8ac chromedriver + 4257964\n1   chromedriver                        0x0000000102d77f40 chromedriver + 4226880\n2   chromedriver                        0x00000001029b49d4 chromedriver + 281044\n3   chromedriver                        0x00000001029b9200 chromedriver + 299520\n4   chromedriver                        0x00000001029bab34 chromedriver + 305972\n5   chromedriver                        0x00000001029bac24 chromedriver + 306212\n6   chromedriver                        0x00000001029ea0ec chromedriver + 499948\n7   chromedriver                        0x00000001029e51cc chromedriver + 479692\n8   chromedriver                        0x0000000102a267e4 chromedriver + 747492\n9   chromedriver                        0x00000001029e398c chromedriver + 473484\n10  chromedriver                        0x00000001029e498c chromedriver + 477580\n11  chromedriver                        0x0000000102d3e900 chromedriver + 3991808\n12  chromedriver                        0x0000000102d42354 chromedriver + 4006740\n13  chromedriver                        0x0000000102d42940 chromedriver + 4008256\n14  chromedriver                        0x0000000102d4833c chromedriver + 4031292\n15  chromedriver                        0x0000000102d42f34 chromedriver + 4009780\n16  chromedriver                        0x0000000102d1b490 chromedriver + 3847312\n17  chromedriver                        0x0000000102d609f4 chromedriver + 4131316\n18  chromedriver                        0x0000000102d60b4c chromedriver + 4131660\n19  chromedriver                        0x0000000102d71230 chromedriver + 4198960\n20  libsystem_pthread.dylib             0x000000018cb97fa8 _pthread_start + 148\n21  libsystem_pthread.dylib             0x000000018cb92da0 thread_start + 8\n"
     ]
    }
   ],
   "source": [
    "import time\n",
    "import pandas as pd\n",
    "\n",
    "from selenium import webdriver\n",
    "from selenium.webdriver.common.by import By\n",
    "from selenium.webdriver.support.ui import Select\n",
    "\n",
    "def print_data():\n",
    "    target = driver.find_element(By.XPATH, '//*[@id=\"PC_Week_MOD\"]/thead/tr/th[1]').text\n",
    "    temperature = driver.find_element(By.XPATH, '//*[@id=\"PC_Week_MOD\"]/tbody/tr[1]/td[1]/p/span[1]').text\n",
    "    print(target)\n",
    "    print(temperature)\n",
    "\n",
    "# initial\n",
    "city = input()\n",
    "url = 'https://www.cwb.gov.tw/V8/E/W/County/County.html'\n",
    "driver = webdriver.Chrome()\n",
    "driver.get(url)\n",
    "\n",
    "# search\n",
    "select_element = driver.find_element(By.ID, 'CID')\n",
    "select = Select(select_element)\n",
    "if city == 'all':\n",
    "    for idx in range(1, 23):\n",
    "        select_element = driver.find_element(By.ID, 'CID')\n",
    "        select = Select(select_element)\n",
    "        select.select_by_index(idx)\n",
    "\n",
    "        print_data()\n",
    "\n",
    "        time.sleep(1)\n",
    "\n",
    "\n",
    "else:\n",
    "    select.select_by_visible_text(city)\n",
    "    print_data()\n",
    "\n",
    "time.sleep(1)\n",
    "driver.quit()"
   ]
  },
  {
   "cell_type": "code",
   "execution_count": null,
   "metadata": {},
   "outputs": [],
   "source": []
  }
 ],
 "metadata": {
  "kernelspec": {
   "display_name": "Python 3",
   "language": "python",
   "name": "python3"
  },
  "language_info": {
   "codemirror_mode": {
    "name": "ipython",
    "version": 3
   },
   "file_extension": ".py",
   "mimetype": "text/x-python",
   "name": "python",
   "nbconvert_exporter": "python",
   "pygments_lexer": "ipython3",
   "version": "3.9.6"
  },
  "orig_nbformat": 4
 },
 "nbformat": 4,
 "nbformat_minor": 2
}
