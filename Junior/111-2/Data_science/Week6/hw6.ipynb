{
 "cells": [
  {
   "cell_type": "code",
   "execution_count": null,
   "metadata": {},
   "outputs": [],
   "source": [
    "import requests\n",
    "import pandas as pd\n",
    "from bs4 import BeautifulSoup\n",
    "\n",
    "r = requests.get(\"https://rate.bot.com.tw/xrt?Lang=en-US\")\n",
    "soup = BeautifulSoup(r.text, \"html.parser\")\n",
    "\n",
    "countrys = []\n",
    "currencys = []\n",
    "country = soup.find_all(\"div\", {\"class\": \"hidden-phone print_show\"})\n",
    "currency = soup.find_all(\"td\", {\"data-table\": \"Cash Selling\",\n",
    "                         \"class\": \"text-right display_none_print_show print_width\"})\n",
    "\n",
    "for i in range(0, len(country)):\n",
    "    str = ((country[i].get_text().strip()).split(\" \"))\n",
    "    countrys.append(str[len(str)-1][1:len(str[len(str)-1])-1])\n",
    "    currencys.append(currency[i].get_text())\n",
    "cur = input()\n",
    "amount = float(input())\n",
    "print('%.3f' % float(amount/float(currencys[countrys.index(cur)]))+' '+cur)"
   ]
  }
 ],
 "metadata": {
  "language_info": {
   "name": "python"
  },
  "orig_nbformat": 4
 },
 "nbformat": 4,
 "nbformat_minor": 2
}
