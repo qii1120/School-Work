{
 "cells": [
  {
   "attachments": {},
   "cell_type": "markdown",
   "metadata": {},
   "source": [
    "Trung is bored with his mathematics homeworks. He takes a piece of chalk and starts writing a sequence of consecutive integers starting with 1 to N (1 < N < 10000). After that, he counts the number of times each digit (0 to 9) appears in the sequence. For example, with N = 13, the sequence is: 12345678910111213 In this sequence, 0 appears once, 1 appears 6 times, 2 appears 2 times, 3 appears 3 times, and each digit from 4 to 9 appears once. After playing for a while, Trung gets bored again. He now wants to write a program to do this for him. Your task is to help him with writing this program. \n",
    "\n",
    "Input \n",
    "\n",
    "The input file consists of several data sets. The first line of the input file contains the number of data sets which is a positive integer and is not bigger than 20. The following lines describe the data sets. For each test case, there is one single line containing the number N. \n",
    "\n",
    "Output \n",
    "\n",
    "For each test case, write sequentially in one line the number of digit 0, 1, . . . 9 separated by a space. \n",
    "\n",
    "Sample Input \n",
    "\n",
    "2 \n",
    "3 \n",
    "13 \n",
    "Sample Output \n",
    "\n",
    "0 1 1 1 0 0 0 0 0 0 \n",
    "1 6 2 2 1 1 1 1 1 1"
   ]
  },
  {
   "cell_type": "code",
   "execution_count": 2,
   "metadata": {},
   "outputs": [
    {
     "name": "stdout",
     "output_type": "stream",
     "text": [
      "0 1 0 0 0 0 0 0 0 0 \n",
      "664 1775 1121 721 671 665 664 664 664 664 \n"
     ]
    }
   ],
   "source": [
    "n=int(input())\n",
    "arr = [0] * 10\n",
    "for i in range(n):\n",
    "    Case=int(input())\n",
    "    for j in range(1, Case+1):\n",
    "        for k in range(len(str(j))):\n",
    "            arr[int(str(j)[k])]=arr[int(str(j)[k])]+1\n",
    "    for z in range(10):\n",
    "        print(arr[z], end=\" \")\n",
    "    print()\n",
    "    arr=[0, 0, 0, 0, 0, 0, 0, 0, 0, 0]"
   ]
  },
  {
   "cell_type": "code",
   "execution_count": null,
   "metadata": {},
   "outputs": [],
   "source": []
  }
 ],
 "metadata": {
  "kernelspec": {
   "display_name": "Python 3",
   "language": "python",
   "name": "python3"
  },
  "language_info": {
   "codemirror_mode": {
    "name": "ipython",
    "version": 3
   },
   "file_extension": ".py",
   "mimetype": "text/x-python",
   "name": "python",
   "nbconvert_exporter": "python",
   "pygments_lexer": "ipython3",
   "version": "3.9.6"
  },
  "orig_nbformat": 4
 },
 "nbformat": 4,
 "nbformat_minor": 2
}
