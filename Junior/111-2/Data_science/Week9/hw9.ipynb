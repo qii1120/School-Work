{
 "cells": [
  {
   "cell_type": "code",
   "execution_count": null,
   "metadata": {},
   "outputs": [],
   "source": [
    "import numpy as np\n",
    "\n",
    "def getInput():\n",
    "    n = 0\n",
    "    nums = []\n",
    "    a = int(input())\n",
    "    i = 0\n",
    "    while a != -1:\n",
    "        nums.append(a)\n",
    "        a = int(input())\n",
    "        n+=1\n",
    "    arr2 = np.array(nums)\n",
    "    B = arr2.reshape(int(n/3), 3)\n",
    "    return B, n\n",
    "\n",
    "# print(nums)\n",
    "exam1 = getInput()\n",
    "exam2 = getInput()\n",
    "final = np.zeros((int(exam1[1]/3), 3))\n",
    "final = (exam1[0]+exam2[0])/2\n",
    "for i in range(0, int(exam1[1]/3)):\n",
    "    for j in range(0, 3):\n",
    "        if j==0:\n",
    "            final[i][j]+=10\n",
    "        if final[i][j]<60:\n",
    "            final[i][j]=-1\n",
    "print(exam1[0])\n",
    "print(exam2[0])\n",
    "print(final)"
   ]
  }
 ],
 "metadata": {
  "kernelspec": {
   "display_name": "Python 3",
   "language": "python",
   "name": "python3"
  },
  "language_info": {
   "codemirror_mode": {
    "name": "ipython",
    "version": 3
   },
   "file_extension": ".py",
   "mimetype": "text/x-python",
   "name": "python",
   "nbconvert_exporter": "python",
   "pygments_lexer": "ipython3",
   "version": "3.9.6"
  },
  "orig_nbformat": 4
 },
 "nbformat": 4,
 "nbformat_minor": 2
}
