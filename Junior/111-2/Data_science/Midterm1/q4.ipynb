{
 "cells": [
  {
   "cell_type": "code",
   "execution_count": 3,
   "metadata": {},
   "outputs": [
    {
     "name": "stdout",
     "output_type": "stream",
     "text": [
      "貳獎\n"
     ]
    }
   ],
   "source": [
    "import requests\n",
    "import pandas as pd\n",
    "from bs4 import BeautifulSoup\n",
    "\n",
    "r = requests.get(\n",
    "    \"https://www.taiwanlottery.com.tw/lotto/lotto649/history.aspx\")\n",
    "soup = BeautifulSoup(r.text, \"html.parser\")\n",
    "\n",
    "num = int(input())\n",
    "slot = input()\n",
    "slot = slot.split(\", \")\n",
    "\n",
    "dates = []\n",
    "numbers = []\n",
    "tmpnum = []\n",
    "\n",
    "i = 0\n",
    "s = \"Lotto649Control_history_dlQuery_L649_DrawTerm_\"+str(i)\n",
    "\n",
    "while soup.find(\"span\", id=s):\n",
    "    dates.append(soup.find(\"span\", id=s).get_text())\n",
    "    for j in range(1, 8):\n",
    "        tmpid = \"Lotto649Control_history_dlQuery_No\"+str(j)+\"_\"+str(i)\n",
    "        tmpnum.append(int(soup.find(\"span\", id=tmpid).get_text()))\n",
    "    numbers.append(tmpnum)\n",
    "    tmpnum = []\n",
    "    i = i+1\n",
    "    s = \"Lotto649Control_history_dlQuery_L649_DrawTerm_\"+str(i)\n",
    "\n",
    "ind = dates.index(str(num))\n",
    "count = 0\n",
    "sp = 0\n",
    "# print(ind)\n",
    "\n",
    "for k in range(0, 6):\n",
    "    if int(slot[k]) in numbers[ind][0:6]:\n",
    "        count = count+1\n",
    "    if int(slot[k]) == numbers[ind][6]:\n",
    "        sp = 1\n",
    "\n",
    "if count == 6:\n",
    "    print(\"頭獎\")\n",
    "elif count == 5 and sp == 1:\n",
    "    print(\"貳獎\")\n",
    "elif count == 5:\n",
    "    print(\"3獎\")\n",
    "elif count == 4 and sp == 1:\n",
    "    print(\"4獎\")\n",
    "elif count == 4:\n",
    "    print(\"5獎\")\n",
    "elif count == 3 and sp == 1:\n",
    "    print(\"6獎\")\n",
    "elif count == 2 and sp == 1:\n",
    "    print(\"7獎\")\n",
    "elif count == 3:\n",
    "    print(\"nomal\")\n",
    "else:\n",
    "    print(\"NO\")\n"
   ]
  },
  {
   "cell_type": "code",
   "execution_count": null,
   "metadata": {},
   "outputs": [],
   "source": []
  }
 ],
 "metadata": {
  "kernelspec": {
   "display_name": "Python 3",
   "language": "python",
   "name": "python3"
  },
  "language_info": {
   "codemirror_mode": {
    "name": "ipython",
    "version": 3
   },
   "file_extension": ".py",
   "mimetype": "text/x-python",
   "name": "python",
   "nbconvert_exporter": "python",
   "pygments_lexer": "ipython3",
   "version": "3.9.6"
  },
  "orig_nbformat": 4
 },
 "nbformat": 4,
 "nbformat_minor": 2
}
